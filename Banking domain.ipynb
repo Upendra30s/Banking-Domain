{
 "cells": [
  {
   "cell_type": "markdown",
   "id": "32c114a9-0b7c-475a-a945-39ce17642c20",
   "metadata": {},
   "source": [
    "### To check the fraudlent dection\n"
   ]
  },
  {
   "cell_type": "markdown",
   "id": "fa77c4d0-fa78-4339-a934-dc010903fe31",
   "metadata": {},
   "source": [
    "#### Problem Statement: PredCatch Analytics' Australian banking client's profitability and reputation are being hit by fraudulent ATM transactions. They want PredCatch to help them in reducing and if possible completely eliminating such fraudulent transactions. PredCatch believes it can do the same by building a predictive model to catch such fraudulent transactions in real time and decline them. Your job as PredCatch's Data Scientist is to build this fraud detection & prevention predictive model in the first step. If successful, in the 2nd step you will have to present your solutions and explain how it works to the client. The data has been made available to you. \n",
    "#### The challenging part of the problem is that the data contains very few fraud instances in comparison to the overall population. To give more edge to the solution they have also collected data regarding location [geo_scores] of the transactions, their own proprietary index [Lambda_wts], on network turn around times [Qset_tats] and vulnerability qualification score [instance_scores]. As of now you don't need to understand what they mean.Training data contains masked variables pertaining to each transaction id . Your prediction target here is 'Target' .\n",
    "\n",
    "\n",
    "- 1: Fraudulent transactions\n",
    "\n",
    "\n",
    "- 0: Clean transactions\n"
   ]
  },
  {
   "cell_type": "markdown",
   "id": "176285f5-a36a-47ca-a702-d4dee4ea7469",
   "metadata": {},
   "source": [
    "### Importing the requried Libraiers"
   ]
  },
  {
   "cell_type": "code",
   "execution_count": 4,
   "id": "fd301035-9984-43d3-be8c-8c6b354ca9ad",
   "metadata": {},
   "outputs": [],
   "source": [
    "import numpy as np\n",
    "import pandas as pd\n",
    "import matplotlib.pyplot as plt\n",
    "import seaborn as sns\n",
    "import warnings\n",
    "warnings.filterwarnings(\"ignore\")\n",
    "sns.set()\n"
   ]
  },
  {
   "cell_type": "markdown",
   "id": "d32c807c-f128-4a93-8ee7-5256c7b4f7ca",
   "metadata": {},
   "source": [
    "### to see the complete data of data sets "
   ]
  },
  {
   "cell_type": "code",
   "execution_count": 6,
   "id": "317d1572-6b0f-4913-9d8f-c0261adedff6",
   "metadata": {},
   "outputs": [],
   "source": [
    "pd.set_option('display.max_columns',None)"
   ]
  },
  {
   "cell_type": "markdown",
   "id": "5e084416-78f1-4191-83d3-044c4681e992",
   "metadata": {},
   "source": [
    "### Importing the data sets "
   ]
  },
  {
   "cell_type": "markdown",
   "id": "000bd6b8-d1a0-4f28-ad59-f35d3cc6a645",
   "metadata": {},
   "source": [
    "#### we have 6 different data sets related to banking domain.\n",
    "--- those data setys are\n",
    " - Qset\n",
    " - geo_score\n",
    " - lambda_wts\n",
    " - insatnce_scores\n",
    " - train and test"
   ]
  },
  {
   "cell_type": "code",
   "execution_count": 9,
   "id": "9eaed7a5-9e34-4695-a491-7c9abccba0e9",
   "metadata": {},
   "outputs": [],
   "source": [
    "qset=pd.read_csv(r\"C:\\Users\\hp\\Downloads\\Qset_tats.csv\")\n",
    "geo=pd.read_csv(r\"C:\\Users\\hp\\Downloads\\Geo_scores.csv\")\n",
    "lmd=pd.read_csv(r\"C:\\Users\\hp\\Downloads\\Lambda_wts.csv\")\n",
    "insatance=pd.read_csv(r\"C:\\Users\\hp\\Downloads\\instance_scores.csv\")\n",
    "train=pd.read_csv(r\"C:\\Users\\hp\\Downloads\\train.csv\")\n",
    "test=pd.read_csv(r\"C:\\Users\\hp\\Downloads\\test_share.csv\")"
   ]
  },
  {
   "cell_type": "markdown",
   "id": "9f60b3fe-07d4-4360-ad2f-7134993c0e1a",
   "metadata": {},
   "source": [
    "### let's go throught the data sets "
   ]
  },
  {
   "cell_type": "code",
   "execution_count": 11,
   "id": "d2d842de-3756-4963-9f96-ea1d5b4ebaa6",
   "metadata": {},
   "outputs": [
    {
     "name": "stdout",
     "output_type": "stream",
     "text": [
      "       id  qsets_normalized_tat\n",
      "0    9983                  2.41\n",
      "1  266000                  3.10\n",
      "2   77525                  1.03\n",
      "******************************\n",
      "       id  geo_score\n",
      "0   26674       4.48\n",
      "1  204314       4.48\n",
      "2  176521       5.17\n",
      "******************************\n",
      "    Group  lambda_wt\n",
      "0  Grp936       3.41\n",
      "1  Grp347      -2.88\n",
      "2  Grp188       0.39\n",
      "******************************\n",
      "       id  instance_scores\n",
      "0  173444            -0.88\n",
      "1  259378             1.50\n",
      "2  161170             0.44\n",
      "******************************\n",
      "       id   Group      Per1      Per2      Per3      Per4      Per5      Per6  \\\n",
      "0  112751  Grp169  1.070000  0.580000  0.480000  0.766667  1.233333  1.993333   \n",
      "1   18495  Grp161  0.473333  1.206667  0.883333  1.430000  0.726667  0.626667   \n",
      "2   23915  Grp261  1.130000  0.143333  0.946667  0.123333  0.080000  0.836667   \n",
      "\n",
      "       Per7      Per8      Per9  Dem1      Dem2      Dem3      Dem4      Dem5  \\\n",
      "0  0.340000  1.010000  0.863333  0.46  0.643333  0.736667  0.756667  0.813333   \n",
      "1  0.810000  0.783333  0.190000  0.47  0.613333  0.883333  0.653333  0.463333   \n",
      "2  0.056667  0.756667  0.226667  0.66  0.730000  0.873333  0.923333  1.223333   \n",
      "\n",
      "       Dem6      Dem7      Dem8      Dem9     Cred1     Cred2     Cred3  \\\n",
      "0  0.693333  0.666667  0.680000  0.726667  0.606667  1.010000  0.933333   \n",
      "1  0.483333  0.583333  0.716667  0.743333  0.680000  0.690000  0.560000   \n",
      "2  0.686667  0.606667  0.690000  0.820000  0.600000  0.383333  0.763333   \n",
      "\n",
      "      Cred4     Cred5     Cred6  Normalised_FNT  Target  \n",
      "0  0.603333  0.686667  0.673333        -245.750       0  \n",
      "1  0.670000  0.553333  0.653333        -248.000       0  \n",
      "2  0.670000  0.686667  0.673333        -233.125       0  \n",
      "******************************\n",
      "       id   Group      Per1      Per2  Per3      Per4      Per5      Per6  \\\n",
      "0  146574  Grp229 -0.300000  1.540000  0.22 -0.280000  0.570000  0.260000   \n",
      "1  268759  Grp141  0.633333  0.953333  0.81  0.466667  0.910000  0.253333   \n",
      "2   59727  Grp188  1.043333  0.740000  0.86  1.006667  0.583333  0.616667   \n",
      "\n",
      "   Per7      Per8      Per9      Dem1      Dem2      Dem3      Dem4      Dem5  \\\n",
      "0  0.70  1.076667  0.930000  0.156667  0.546667  0.530000  0.876667  0.450000   \n",
      "1  1.04  0.550000  0.543333  0.433333  0.966667  0.760000  0.576667  0.653333   \n",
      "2  0.63  0.686667  0.593333  1.250000  0.826667  0.826667  0.653333  0.663333   \n",
      "\n",
      "       Dem6      Dem7      Dem8      Dem9     Cred1     Cred2     Cred3  \\\n",
      "0  0.370000  0.786667  0.546667  0.313333  0.703333  0.813333  0.776667   \n",
      "1  0.553333  0.636667  0.770000  0.993333  0.536667  0.703333  0.806667   \n",
      "2  0.453333  0.626667  0.756667  0.953333  0.623333  0.753333  0.870000   \n",
      "\n",
      "      Cred4     Cred5     Cred6  Normalised_FNT  \n",
      "0  0.796667  0.823333  0.783333       -249.7500  \n",
      "1  0.630000  0.673333  0.673333       -249.8125  \n",
      "2  0.596667  0.680000  0.670000       -248.1200  \n",
      "******************************\n"
     ]
    }
   ],
   "source": [
    "print(qset.head(3))\n",
    "print('*'* 30)\n",
    "print(geo.head(3))\n",
    "print('*'* 30)\n",
    "print(lmd.head(3))\n",
    "print('*'* 30)\n",
    "print(insatance.head(3))\n",
    "print('*'* 30)\n",
    "print(train.head(3))\n",
    "print('*'* 30)\n",
    "print(test.head(3))\n",
    "print('*'* 30)"
   ]
  },
  {
   "cell_type": "code",
   "execution_count": 12,
   "id": "49874717-0d12-49b9-a27a-2da0f1a40e39",
   "metadata": {},
   "outputs": [
    {
     "name": "stdout",
     "output_type": "stream",
     "text": [
      "(1424035, 2)\n",
      "******************************\n",
      "(1424035, 2)\n",
      "******************************\n",
      "(1400, 2)\n",
      "******************************\n",
      "(1424035, 2)\n",
      "******************************\n",
      "(227845, 28)\n",
      "******************************\n",
      "(56962, 27)\n",
      "******************************\n"
     ]
    }
   ],
   "source": [
    "print(qset.shape)\n",
    "print('*'* 30)\n",
    "print(geo.shape)\n",
    "print('*'* 30)\n",
    "print(lmd.shape)\n",
    "print('*'* 30)\n",
    "print(insatance.shape)\n",
    "print('*'* 30)\n",
    "print(train.shape)\n",
    "print('*'* 30)\n",
    "print(test.shape)\n",
    "print('*'* 30)"
   ]
  },
  {
   "cell_type": "code",
   "execution_count": 13,
   "id": "b6383ddc-aeb6-4149-8749-67a03cf7594b",
   "metadata": {},
   "outputs": [
    {
     "name": "stdout",
     "output_type": "stream",
     "text": [
      "****************************** qset ********************\n",
      "<class 'pandas.core.frame.DataFrame'>\n",
      "RangeIndex: 1424035 entries, 0 to 1424034\n",
      "Data columns (total 2 columns):\n",
      " #   Column                Non-Null Count    Dtype  \n",
      "---  ------                --------------    -----  \n",
      " 0   id                    1424035 non-null  int64  \n",
      " 1   qsets_normalized_tat  1320834 non-null  float64\n",
      "dtypes: float64(1), int64(1)\n",
      "memory usage: 21.7 MB\n",
      "None\n",
      "****************************** geo ********************\n",
      "<class 'pandas.core.frame.DataFrame'>\n",
      "RangeIndex: 1424035 entries, 0 to 1424034\n",
      "Data columns (total 2 columns):\n",
      " #   Column     Non-Null Count    Dtype  \n",
      "---  ------     --------------    -----  \n",
      " 0   id         1424035 non-null  int64  \n",
      " 1   geo_score  1352492 non-null  float64\n",
      "dtypes: float64(1), int64(1)\n",
      "memory usage: 21.7 MB\n",
      "None\n",
      "****************************** lmd ******************** qset ********************\n",
      "<class 'pandas.core.frame.DataFrame'>\n",
      "RangeIndex: 1400 entries, 0 to 1399\n",
      "Data columns (total 2 columns):\n",
      " #   Column     Non-Null Count  Dtype  \n",
      "---  ------     --------------  -----  \n",
      " 0   Group      1400 non-null   object \n",
      " 1   lambda_wt  1400 non-null   float64\n",
      "dtypes: float64(1), object(1)\n",
      "memory usage: 22.0+ KB\n",
      "None\n",
      "****************************** insatance ********************\n",
      "<class 'pandas.core.frame.DataFrame'>\n",
      "RangeIndex: 1424035 entries, 0 to 1424034\n",
      "Data columns (total 2 columns):\n",
      " #   Column           Non-Null Count    Dtype  \n",
      "---  ------           --------------    -----  \n",
      " 0   id               1424035 non-null  int64  \n",
      " 1   instance_scores  1424035 non-null  float64\n",
      "dtypes: float64(1), int64(1)\n",
      "memory usage: 21.7 MB\n",
      "None\n",
      "****************************** train ********************\n",
      "<class 'pandas.core.frame.DataFrame'>\n",
      "RangeIndex: 227845 entries, 0 to 227844\n",
      "Data columns (total 28 columns):\n",
      " #   Column          Non-Null Count   Dtype  \n",
      "---  ------          --------------   -----  \n",
      " 0   id              227845 non-null  int64  \n",
      " 1   Group           227845 non-null  object \n",
      " 2   Per1            227845 non-null  float64\n",
      " 3   Per2            227845 non-null  float64\n",
      " 4   Per3            227845 non-null  float64\n",
      " 5   Per4            227845 non-null  float64\n",
      " 6   Per5            227845 non-null  float64\n",
      " 7   Per6            227845 non-null  float64\n",
      " 8   Per7            227845 non-null  float64\n",
      " 9   Per8            227845 non-null  float64\n",
      " 10  Per9            227845 non-null  float64\n",
      " 11  Dem1            227845 non-null  float64\n",
      " 12  Dem2            227845 non-null  float64\n",
      " 13  Dem3            227845 non-null  float64\n",
      " 14  Dem4            227845 non-null  float64\n",
      " 15  Dem5            227845 non-null  float64\n",
      " 16  Dem6            227845 non-null  float64\n",
      " 17  Dem7            227845 non-null  float64\n",
      " 18  Dem8            227845 non-null  float64\n",
      " 19  Dem9            227845 non-null  float64\n",
      " 20  Cred1           227845 non-null  float64\n",
      " 21  Cred2           227845 non-null  float64\n",
      " 22  Cred3           227845 non-null  float64\n",
      " 23  Cred4           227845 non-null  float64\n",
      " 24  Cred5           227845 non-null  float64\n",
      " 25  Cred6           227845 non-null  float64\n",
      " 26  Normalised_FNT  227845 non-null  float64\n",
      " 27  Target          227845 non-null  int64  \n",
      "dtypes: float64(25), int64(2), object(1)\n",
      "memory usage: 48.7+ MB\n",
      "None\n",
      "****************************** test ********************\n",
      "<class 'pandas.core.frame.DataFrame'>\n",
      "RangeIndex: 56962 entries, 0 to 56961\n",
      "Data columns (total 27 columns):\n",
      " #   Column          Non-Null Count  Dtype  \n",
      "---  ------          --------------  -----  \n",
      " 0   id              56962 non-null  int64  \n",
      " 1   Group           56962 non-null  object \n",
      " 2   Per1            56962 non-null  float64\n",
      " 3   Per2            56962 non-null  float64\n",
      " 4   Per3            56962 non-null  float64\n",
      " 5   Per4            56962 non-null  float64\n",
      " 6   Per5            56962 non-null  float64\n",
      " 7   Per6            56962 non-null  float64\n",
      " 8   Per7            56962 non-null  float64\n",
      " 9   Per8            56962 non-null  float64\n",
      " 10  Per9            56962 non-null  float64\n",
      " 11  Dem1            56962 non-null  float64\n",
      " 12  Dem2            56962 non-null  float64\n",
      " 13  Dem3            56962 non-null  float64\n",
      " 14  Dem4            56962 non-null  float64\n",
      " 15  Dem5            56962 non-null  float64\n",
      " 16  Dem6            56962 non-null  float64\n",
      " 17  Dem7            56962 non-null  float64\n",
      " 18  Dem8            56962 non-null  float64\n",
      " 19  Dem9            56962 non-null  float64\n",
      " 20  Cred1           56962 non-null  float64\n",
      " 21  Cred2           56962 non-null  float64\n",
      " 22  Cred3           56962 non-null  float64\n",
      " 23  Cred4           56962 non-null  float64\n",
      " 24  Cred5           56962 non-null  float64\n",
      " 25  Cred6           56962 non-null  float64\n",
      " 26  Normalised_FNT  56962 non-null  float64\n",
      "dtypes: float64(25), int64(1), object(1)\n",
      "memory usage: 11.7+ MB\n",
      "None\n",
      "******************************\n"
     ]
    }
   ],
   "source": [
    "print('*'* 30,'qset','*'*20)\n",
    "print(qset.info())\n",
    "print('*'* 30,'geo','*'*20)\n",
    "print(geo.info())\n",
    "print('*'* 30,'lmd','*'*20,'qset','*'*20)\n",
    "print(lmd.info())\n",
    "print('*'* 30,'insatance','*'*20)\n",
    "print(insatance.info())\n",
    "print('*'* 30,'train','*'*20)\n",
    "print(train.info())\n",
    "print('*'* 30,'test','*'*20)\n",
    "print(test.info())\n",
    "print('*'* 30)"
   ]
  },
  {
   "cell_type": "markdown",
   "id": "068c5f82-37ea-42cf-a577-2c3976a46bd9",
   "metadata": {},
   "source": [
    "#### From 6 data set we need to merge them as one data set, For this we have a common variable in 5 data sets that is id by using this we need to merge the data sets"
   ]
  },
  {
   "cell_type": "code",
   "execution_count": 15,
   "id": "243cb3fe-9cb4-45b0-886d-2382621eaf00",
   "metadata": {},
   "outputs": [
    {
     "name": "stdout",
     "output_type": "stream",
     "text": [
      "****************************** qset ********************\n",
      "id                           0\n",
      "qsets_normalized_tat    103201\n",
      "dtype: int64\n",
      "****************************** geo ********************\n",
      "id               0\n",
      "geo_score    71543\n",
      "dtype: int64\n",
      "****************************** lmd ******************** qset ********************\n",
      "Group        0\n",
      "lambda_wt    0\n",
      "dtype: int64\n",
      "****************************** insatance ********************\n",
      "id                 0\n",
      "instance_scores    0\n",
      "dtype: int64\n",
      "****************************** train ********************\n",
      "id                0\n",
      "Group             0\n",
      "Per1              0\n",
      "Per2              0\n",
      "Per3              0\n",
      "Per4              0\n",
      "Per5              0\n",
      "Per6              0\n",
      "Per7              0\n",
      "Per8              0\n",
      "Per9              0\n",
      "Dem1              0\n",
      "Dem2              0\n",
      "Dem3              0\n",
      "Dem4              0\n",
      "Dem5              0\n",
      "Dem6              0\n",
      "Dem7              0\n",
      "Dem8              0\n",
      "Dem9              0\n",
      "Cred1             0\n",
      "Cred2             0\n",
      "Cred3             0\n",
      "Cred4             0\n",
      "Cred5             0\n",
      "Cred6             0\n",
      "Normalised_FNT    0\n",
      "Target            0\n",
      "dtype: int64\n",
      "****************************** test ********************\n",
      "id                0\n",
      "Group             0\n",
      "Per1              0\n",
      "Per2              0\n",
      "Per3              0\n",
      "Per4              0\n",
      "Per5              0\n",
      "Per6              0\n",
      "Per7              0\n",
      "Per8              0\n",
      "Per9              0\n",
      "Dem1              0\n",
      "Dem2              0\n",
      "Dem3              0\n",
      "Dem4              0\n",
      "Dem5              0\n",
      "Dem6              0\n",
      "Dem7              0\n",
      "Dem8              0\n",
      "Dem9              0\n",
      "Cred1             0\n",
      "Cred2             0\n",
      "Cred3             0\n",
      "Cred4             0\n",
      "Cred5             0\n",
      "Cred6             0\n",
      "Normalised_FNT    0\n",
      "dtype: int64\n",
      "******************************\n"
     ]
    }
   ],
   "source": [
    "print('*'* 30,'qset','*'*20)\n",
    "print(qset.isna().sum())\n",
    "print('*'* 30,'geo','*'*20)\n",
    "print(geo.isna().sum())\n",
    "print('*'* 30,'lmd','*'*20,'qset','*'*20)\n",
    "print(lmd.isna().sum())\n",
    "print('*'* 30,'insatance','*'*20)\n",
    "print(insatance.isna().sum())\n",
    "print('*'* 30,'train','*'*20)\n",
    "print(train.isna().sum())\n",
    "print('*'* 30,'test','*'*20)\n",
    "print(test.isna().sum())\n",
    "print('*'* 30)"
   ]
  },
  {
   "cell_type": "code",
   "execution_count": 16,
   "id": "fdb5c5e0-00f8-46b0-9a2a-56e4f70ddbd9",
   "metadata": {},
   "outputs": [
    {
     "name": "stdout",
     "output_type": "stream",
     "text": [
      "*******************Unique ID to the customer****************\n",
      "qset 284807\n",
      "******************\n",
      "geo 284807\n",
      "******************\n",
      "insatance 284807\n",
      "******************\n",
      "train 227845\n",
      "******************\n",
      "test 56962\n",
      "******************\n",
      "\n",
      "\n",
      "*******************Unique Group to the customer****************\n",
      "\n",
      "\n",
      "lmbda 1400\n",
      "******************\n",
      "train 1301\n",
      "******************\n",
      "test 915\n",
      "******************\n"
     ]
    }
   ],
   "source": [
    "print(\"*******************Unique ID to the customer****************\")\n",
    "print(\"qset\",qset['id'].nunique())\n",
    "print(\"******************\")\n",
    "print(\"geo\", geo['id'].nunique())\n",
    "print(\"******************\")\n",
    "print(\"insatance\",insatance['id'].nunique())\n",
    "print(\"******************\")\n",
    "print(\"train\", train['id'].nunique())\n",
    "print(\"******************\")\n",
    "print(\"test\",test['id'].nunique())\n",
    "print(\"******************\")\n",
    "print()\n",
    "print()\n",
    "print(\"*******************Unique Group to the customer****************\")\n",
    "print()\n",
    "print()\n",
    "print(\"lmbda\",lmd['Group'].nunique())\n",
    "print(\"******************\")\n",
    "print(\"train\",train['Group'].nunique())\n",
    "print(\"******************\")\n",
    "print(\"test\",test['Group'].nunique())\n",
    "print(\"******************\")"
   ]
  },
  {
   "cell_type": "code",
   "execution_count": 17,
   "id": "eff98d5b-2278-44da-a192-d2ddeb8035ac",
   "metadata": {},
   "outputs": [
    {
     "name": "stdout",
     "output_type": "stream",
     "text": [
      "****************************** qset ********************\n",
      "id                      0.000000\n",
      "qsets_normalized_tat    7.247083\n",
      "dtype: float64\n",
      "****************************** geo ********************\n",
      "id           0.000000\n",
      "geo_score    5.023964\n",
      "dtype: float64\n"
     ]
    }
   ],
   "source": [
    "print('*'* 30,'qset','*'*20)\n",
    "print(qset.isna().sum()/len(qset)*100)\n",
    "print('*'* 30,'geo','*'*20)\n",
    "print(geo.isna().sum()/len(geo)*100)"
   ]
  },
  {
   "cell_type": "markdown",
   "id": "af805e19-4e93-441a-ace0-2f3b4eae9420",
   "metadata": {},
   "source": [
    "##### the null value percentage is not neligable so we need to fill the null values with based on outliers"
   ]
  },
  {
   "cell_type": "markdown",
   "id": "a8407127-aade-495c-93b5-66e884c52032",
   "metadata": {},
   "source": [
    "#### Checking the outliers"
   ]
  },
  {
   "cell_type": "code",
   "execution_count": 20,
   "id": "fe95e091-6549-49c6-a576-9df3a5d7eae5",
   "metadata": {},
   "outputs": [
    {
     "data": {
      "text/plain": [
       "<Axes: ylabel='geo_score'>"
      ]
     },
     "execution_count": 20,
     "metadata": {},
     "output_type": "execute_result"
    },
    {
     "data": {
      "image/png": "[encoded data removed]",
      "text/plain": [
       "<Figure size 640x480 with 1 Axes>"
      ]
     },
     "metadata": {},
     "output_type": "display_data"
    }
   ],
   "source": [
    "sns.boxplot(y='geo_score', data=geo)"
   ]
  },
  {
   "cell_type": "code",
   "execution_count": 21,
   "id": "e9ff422b-ebab-49ae-b636-ff53f32dc632",
   "metadata": {},
   "outputs": [
    {
     "data": {
      "text/plain": [
       "<Axes: ylabel='qsets_normalized_tat'>"
      ]
     },
     "execution_count": 21,
     "metadata": {},
     "output_type": "execute_result"
    },
    {
     "data": {
      "image/png": "[encoded data removed]",
      "text/plain": [
       "<Figure size 640x480 with 1 Axes>"
      ]
     },
     "metadata": {},
     "output_type": "display_data"
    }
   ],
   "source": [
    "sns.boxplot(y='qsets_normalized_tat', data=qset)"
   ]
  },
  {
   "cell_type": "markdown",
   "id": "be96d845-b4be-4077-90e2-526668d3a867",
   "metadata": {},
   "source": [
    "##### Here we have outliers in both datasets so we con't use the mean to fill the null values, We need to use the median "
   ]
  },
  {
   "cell_type": "markdown",
   "id": "2f848d2b-52b1-46e5-9d34-03ad0a1232ec",
   "metadata": {},
   "source": [
    "#### Filling the null values"
   ]
  },
  {
   "cell_type": "code",
   "execution_count": 24,
   "id": "1bfa12c3-15fb-4ebf-8615-20c6bacb7efa",
   "metadata": {},
   "outputs": [],
   "source": [
    "qset['qsets_normalized_tat']=qset['qsets_normalized_tat'].fillna(qset['qsets_normalized_tat'].median())\n",
    "geo['geo_score']=geo['geo_score'].fillna(geo['geo_score'].median())"
   ]
  },
  {
   "cell_type": "code",
   "execution_count": 25,
   "id": "14dea9db-5f3d-4e26-9c2a-59490bc01abf",
   "metadata": {},
   "outputs": [
    {
     "name": "stdout",
     "output_type": "stream",
     "text": [
      "****************************** qset ********************\n",
      "id                      0.0\n",
      "qsets_normalized_tat    0.0\n",
      "dtype: float64\n",
      "****************************** geo ********************\n",
      "id           0.0\n",
      "geo_score    0.0\n",
      "dtype: float64\n"
     ]
    }
   ],
   "source": [
    "print('*'* 30,'qset','*'*20)\n",
    "print(qset.isna().sum()/len(qset)*100)\n",
    "print('*'* 30,'geo','*'*20)\n",
    "print(geo.isna().sum()/len(geo)*100)"
   ]
  },
  {
   "cell_type": "markdown",
   "id": "d3e2d18a-8a71-4a43-a829-5fc3a2445616",
   "metadata": {},
   "source": [
    "- the missing values imputation is done"
   ]
  },
  {
   "cell_type": "markdown",
   "id": "09b95491-5de2-4997-a2b9-fab80209c8a9",
   "metadata": {},
   "source": [
    "- now the merging of data sets"
   ]
  },
  {
   "cell_type": "code",
   "execution_count": 28,
   "id": "e23ef8a1-4d08-4f11-9db8-4f712d15e2e1",
   "metadata": {},
   "outputs": [
    {
     "data": {
      "text/plain": [
       "Target\n",
       "0    227451\n",
       "1       394\n",
       "Name: count, dtype: int64"
      ]
     },
     "execution_count": 28,
     "metadata": {},
     "output_type": "execute_result"
    }
   ],
   "source": [
    "train['Target'].value_counts()"
   ]
  },
  {
   "cell_type": "code",
   "execution_count": 29,
   "id": "3b4ad31a-f7c7-4df8-9a31-e5532cbe1d44",
   "metadata": {},
   "outputs": [
    {
     "data": {
      "text/html": [
       "<div>\n",
       "<style scoped>\n",
       "    .dataframe tbody tr th:only-of-type {\n",
       "        vertical-align: middle;\n",
       "    }\n",
       "\n",
       "    .dataframe tbody tr th {\n",
       "        vertical-align: top;\n",
       "    }\n",
       "\n",
       "    .dataframe thead th {\n",
       "        text-align: right;\n",
       "    }\n",
       "</style>\n",
       "<table border=\"1\" class=\"dataframe\">\n",
       "  <thead>\n",
       "    <tr style=\"text-align: right;\">\n",
       "      <th></th>\n",
       "      <th>id</th>\n",
       "      <th>Group</th>\n",
       "      <th>Per1</th>\n",
       "      <th>Per2</th>\n",
       "      <th>Per3</th>\n",
       "      <th>Per4</th>\n",
       "      <th>Per5</th>\n",
       "      <th>Per6</th>\n",
       "      <th>Per7</th>\n",
       "      <th>Per8</th>\n",
       "      <th>Per9</th>\n",
       "      <th>Dem1</th>\n",
       "      <th>Dem2</th>\n",
       "      <th>Dem3</th>\n",
       "      <th>Dem4</th>\n",
       "      <th>Dem5</th>\n",
       "      <th>Dem6</th>\n",
       "      <th>Dem7</th>\n",
       "      <th>Dem8</th>\n",
       "      <th>Dem9</th>\n",
       "      <th>Cred1</th>\n",
       "      <th>Cred2</th>\n",
       "      <th>Cred3</th>\n",
       "      <th>Cred4</th>\n",
       "      <th>Cred5</th>\n",
       "      <th>Cred6</th>\n",
       "      <th>Normalised_FNT</th>\n",
       "      <th>Target</th>\n",
       "    </tr>\n",
       "  </thead>\n",
       "  <tbody>\n",
       "    <tr>\n",
       "      <th>0</th>\n",
       "      <td>112751</td>\n",
       "      <td>Grp169</td>\n",
       "      <td>1.070000</td>\n",
       "      <td>0.580000</td>\n",
       "      <td>0.480000</td>\n",
       "      <td>0.766667</td>\n",
       "      <td>1.233333</td>\n",
       "      <td>1.993333</td>\n",
       "      <td>0.34</td>\n",
       "      <td>1.010000</td>\n",
       "      <td>0.863333</td>\n",
       "      <td>0.46</td>\n",
       "      <td>0.643333</td>\n",
       "      <td>0.736667</td>\n",
       "      <td>0.756667</td>\n",
       "      <td>0.813333</td>\n",
       "      <td>0.693333</td>\n",
       "      <td>0.666667</td>\n",
       "      <td>0.680000</td>\n",
       "      <td>0.726667</td>\n",
       "      <td>0.606667</td>\n",
       "      <td>1.01</td>\n",
       "      <td>0.933333</td>\n",
       "      <td>0.603333</td>\n",
       "      <td>0.686667</td>\n",
       "      <td>0.673333</td>\n",
       "      <td>-245.75</td>\n",
       "      <td>0</td>\n",
       "    </tr>\n",
       "    <tr>\n",
       "      <th>1</th>\n",
       "      <td>18495</td>\n",
       "      <td>Grp161</td>\n",
       "      <td>0.473333</td>\n",
       "      <td>1.206667</td>\n",
       "      <td>0.883333</td>\n",
       "      <td>1.430000</td>\n",
       "      <td>0.726667</td>\n",
       "      <td>0.626667</td>\n",
       "      <td>0.81</td>\n",
       "      <td>0.783333</td>\n",
       "      <td>0.190000</td>\n",
       "      <td>0.47</td>\n",
       "      <td>0.613333</td>\n",
       "      <td>0.883333</td>\n",
       "      <td>0.653333</td>\n",
       "      <td>0.463333</td>\n",
       "      <td>0.483333</td>\n",
       "      <td>0.583333</td>\n",
       "      <td>0.716667</td>\n",
       "      <td>0.743333</td>\n",
       "      <td>0.680000</td>\n",
       "      <td>0.69</td>\n",
       "      <td>0.560000</td>\n",
       "      <td>0.670000</td>\n",
       "      <td>0.553333</td>\n",
       "      <td>0.653333</td>\n",
       "      <td>-248.00</td>\n",
       "      <td>0</td>\n",
       "    </tr>\n",
       "  </tbody>\n",
       "</table>\n",
       "</div>"
      ],
      "text/plain": [
       "       id   Group      Per1      Per2      Per3      Per4      Per5      Per6  \\\n",
       "0  112751  Grp169  1.070000  0.580000  0.480000  0.766667  1.233333  1.993333   \n",
       "1   18495  Grp161  0.473333  1.206667  0.883333  1.430000  0.726667  0.626667   \n",
       "\n",
       "   Per7      Per8      Per9  Dem1      Dem2      Dem3      Dem4      Dem5  \\\n",
       "0  0.34  1.010000  0.863333  0.46  0.643333  0.736667  0.756667  0.813333   \n",
       "1  0.81  0.783333  0.190000  0.47  0.613333  0.883333  0.653333  0.463333   \n",
       "\n",
       "       Dem6      Dem7      Dem8      Dem9     Cred1  Cred2     Cred3  \\\n",
       "0  0.693333  0.666667  0.680000  0.726667  0.606667   1.01  0.933333   \n",
       "1  0.483333  0.583333  0.716667  0.743333  0.680000   0.69  0.560000   \n",
       "\n",
       "      Cred4     Cred5     Cred6  Normalised_FNT  Target  \n",
       "0  0.603333  0.686667  0.673333         -245.75       0  \n",
       "1  0.670000  0.553333  0.653333         -248.00       0  "
      ]
     },
     "execution_count": 29,
     "metadata": {},
     "output_type": "execute_result"
    }
   ],
   "source": [
    "train.head(2)"
   ]
  },
  {
   "cell_type": "code",
   "execution_count": 30,
   "id": "b300b6fd-d602-4d6e-a540-d70793c5512f",
   "metadata": {},
   "outputs": [
    {
     "data": {
      "text/html": [
       "<div>\n",
       "<style scoped>\n",
       "    .dataframe tbody tr th:only-of-type {\n",
       "        vertical-align: middle;\n",
       "    }\n",
       "\n",
       "    .dataframe tbody tr th {\n",
       "        vertical-align: top;\n",
       "    }\n",
       "\n",
       "    .dataframe thead th {\n",
       "        text-align: right;\n",
       "    }\n",
       "</style>\n",
       "<table border=\"1\" class=\"dataframe\">\n",
       "  <thead>\n",
       "    <tr style=\"text-align: right;\">\n",
       "      <th></th>\n",
       "      <th>id</th>\n",
       "      <th>Group</th>\n",
       "      <th>Per1</th>\n",
       "      <th>Per2</th>\n",
       "      <th>Per3</th>\n",
       "      <th>Per4</th>\n",
       "      <th>Per5</th>\n",
       "      <th>Per6</th>\n",
       "      <th>Per7</th>\n",
       "      <th>Per8</th>\n",
       "      <th>Per9</th>\n",
       "      <th>Dem1</th>\n",
       "      <th>Dem2</th>\n",
       "      <th>Dem3</th>\n",
       "      <th>Dem4</th>\n",
       "      <th>Dem5</th>\n",
       "      <th>Dem6</th>\n",
       "      <th>Dem7</th>\n",
       "      <th>Dem8</th>\n",
       "      <th>Dem9</th>\n",
       "      <th>Cred1</th>\n",
       "      <th>Cred2</th>\n",
       "      <th>Cred3</th>\n",
       "      <th>Cred4</th>\n",
       "      <th>Cred5</th>\n",
       "      <th>Cred6</th>\n",
       "      <th>Normalised_FNT</th>\n",
       "    </tr>\n",
       "  </thead>\n",
       "  <tbody>\n",
       "    <tr>\n",
       "      <th>0</th>\n",
       "      <td>146574</td>\n",
       "      <td>Grp229</td>\n",
       "      <td>-0.300000</td>\n",
       "      <td>1.540000</td>\n",
       "      <td>0.22</td>\n",
       "      <td>-0.280000</td>\n",
       "      <td>0.57</td>\n",
       "      <td>0.260000</td>\n",
       "      <td>0.70</td>\n",
       "      <td>1.076667</td>\n",
       "      <td>0.930000</td>\n",
       "      <td>0.156667</td>\n",
       "      <td>0.546667</td>\n",
       "      <td>0.53</td>\n",
       "      <td>0.876667</td>\n",
       "      <td>0.450000</td>\n",
       "      <td>0.370000</td>\n",
       "      <td>0.786667</td>\n",
       "      <td>0.546667</td>\n",
       "      <td>0.313333</td>\n",
       "      <td>0.703333</td>\n",
       "      <td>0.813333</td>\n",
       "      <td>0.776667</td>\n",
       "      <td>0.796667</td>\n",
       "      <td>0.823333</td>\n",
       "      <td>0.783333</td>\n",
       "      <td>-249.7500</td>\n",
       "    </tr>\n",
       "    <tr>\n",
       "      <th>1</th>\n",
       "      <td>268759</td>\n",
       "      <td>Grp141</td>\n",
       "      <td>0.633333</td>\n",
       "      <td>0.953333</td>\n",
       "      <td>0.81</td>\n",
       "      <td>0.466667</td>\n",
       "      <td>0.91</td>\n",
       "      <td>0.253333</td>\n",
       "      <td>1.04</td>\n",
       "      <td>0.550000</td>\n",
       "      <td>0.543333</td>\n",
       "      <td>0.433333</td>\n",
       "      <td>0.966667</td>\n",
       "      <td>0.76</td>\n",
       "      <td>0.576667</td>\n",
       "      <td>0.653333</td>\n",
       "      <td>0.553333</td>\n",
       "      <td>0.636667</td>\n",
       "      <td>0.770000</td>\n",
       "      <td>0.993333</td>\n",
       "      <td>0.536667</td>\n",
       "      <td>0.703333</td>\n",
       "      <td>0.806667</td>\n",
       "      <td>0.630000</td>\n",
       "      <td>0.673333</td>\n",
       "      <td>0.673333</td>\n",
       "      <td>-249.8125</td>\n",
       "    </tr>\n",
       "  </tbody>\n",
       "</table>\n",
       "</div>"
      ],
      "text/plain": [
       "       id   Group      Per1      Per2  Per3      Per4  Per5      Per6  Per7  \\\n",
       "0  146574  Grp229 -0.300000  1.540000  0.22 -0.280000  0.57  0.260000  0.70   \n",
       "1  268759  Grp141  0.633333  0.953333  0.81  0.466667  0.91  0.253333  1.04   \n",
       "\n",
       "       Per8      Per9      Dem1      Dem2  Dem3      Dem4      Dem5      Dem6  \\\n",
       "0  1.076667  0.930000  0.156667  0.546667  0.53  0.876667  0.450000  0.370000   \n",
       "1  0.550000  0.543333  0.433333  0.966667  0.76  0.576667  0.653333  0.553333   \n",
       "\n",
       "       Dem7      Dem8      Dem9     Cred1     Cred2     Cred3     Cred4  \\\n",
       "0  0.786667  0.546667  0.313333  0.703333  0.813333  0.776667  0.796667   \n",
       "1  0.636667  0.770000  0.993333  0.536667  0.703333  0.806667  0.630000   \n",
       "\n",
       "      Cred5     Cred6  Normalised_FNT  \n",
       "0  0.823333  0.783333       -249.7500  \n",
       "1  0.673333  0.673333       -249.8125  "
      ]
     },
     "execution_count": 30,
     "metadata": {},
     "output_type": "execute_result"
    }
   ],
   "source": [
    "test.head(2)"
   ]
  },
  {
   "cell_type": "code",
   "execution_count": 31,
   "id": "256760b8-b3e3-4ca3-a713-33edfe65cc54",
   "metadata": {},
   "outputs": [
    {
     "data": {
      "text/plain": [
       "(227845, 28)"
      ]
     },
     "execution_count": 31,
     "metadata": {},
     "output_type": "execute_result"
    }
   ],
   "source": [
    "train.shape"
   ]
  },
  {
   "cell_type": "code",
   "execution_count": 32,
   "id": "18f92a54-f099-49a2-ba81-3fafa0142d3a",
   "metadata": {},
   "outputs": [
    {
     "data": {
      "text/plain": [
       "(56962, 27)"
      ]
     },
     "execution_count": 32,
     "metadata": {},
     "output_type": "execute_result"
    }
   ],
   "source": [
    "test.shape"
   ]
  },
  {
   "cell_type": "markdown",
   "id": "503ea4ba-5101-44a1-b1e5-649fd302c8f0",
   "metadata": {},
   "source": [
    "#### the difference between two data sets is target columns"
   ]
  },
  {
   "cell_type": "code",
   "execution_count": 34,
   "id": "11b38628-318b-4c72-8a67-2a8a22b3e614",
   "metadata": {},
   "outputs": [],
   "source": [
    "# to merge this we need a common column\n",
    "train['data'] = 'train'\n",
    "test['data'] = 'test'"
   ]
  },
  {
   "cell_type": "code",
   "execution_count": 35,
   "id": "91526f0f-5382-4217-a407-dcb3b11d416d",
   "metadata": {},
   "outputs": [],
   "source": [
    "# add both the table together\n",
    "df = pd.concat([train, test],axis=0)"
   ]
  },
  {
   "cell_type": "code",
   "execution_count": 36,
   "id": "dc2b6f92-30a7-4187-a49d-275527b75263",
   "metadata": {},
   "outputs": [
    {
     "data": {
      "text/html": [
       "<div>\n",
       "<style scoped>\n",
       "    .dataframe tbody tr th:only-of-type {\n",
       "        vertical-align: middle;\n",
       "    }\n",
       "\n",
       "    .dataframe tbody tr th {\n",
       "        vertical-align: top;\n",
       "    }\n",
       "\n",
       "    .dataframe thead th {\n",
       "        text-align: right;\n",
       "    }\n",
       "</style>\n",
       "<table border=\"1\" class=\"dataframe\">\n",
       "  <thead>\n",
       "    <tr style=\"text-align: right;\">\n",
       "      <th></th>\n",
       "      <th>id</th>\n",
       "      <th>Group</th>\n",
       "      <th>Per1</th>\n",
       "      <th>Per2</th>\n",
       "      <th>Per3</th>\n",
       "      <th>Per4</th>\n",
       "      <th>Per5</th>\n",
       "      <th>Per6</th>\n",
       "      <th>Per7</th>\n",
       "      <th>Per8</th>\n",
       "      <th>Per9</th>\n",
       "      <th>Dem1</th>\n",
       "      <th>Dem2</th>\n",
       "      <th>Dem3</th>\n",
       "      <th>Dem4</th>\n",
       "      <th>Dem5</th>\n",
       "      <th>Dem6</th>\n",
       "      <th>Dem7</th>\n",
       "      <th>Dem8</th>\n",
       "      <th>Dem9</th>\n",
       "      <th>Cred1</th>\n",
       "      <th>Cred2</th>\n",
       "      <th>Cred3</th>\n",
       "      <th>Cred4</th>\n",
       "      <th>Cred5</th>\n",
       "      <th>Cred6</th>\n",
       "      <th>Normalised_FNT</th>\n",
       "      <th>Target</th>\n",
       "      <th>data</th>\n",
       "    </tr>\n",
       "  </thead>\n",
       "  <tbody>\n",
       "    <tr>\n",
       "      <th>0</th>\n",
       "      <td>112751</td>\n",
       "      <td>Grp169</td>\n",
       "      <td>1.070000</td>\n",
       "      <td>0.580000</td>\n",
       "      <td>0.480000</td>\n",
       "      <td>0.766667</td>\n",
       "      <td>1.233333</td>\n",
       "      <td>1.993333</td>\n",
       "      <td>0.340000</td>\n",
       "      <td>1.010000</td>\n",
       "      <td>0.863333</td>\n",
       "      <td>0.460000</td>\n",
       "      <td>0.643333</td>\n",
       "      <td>0.736667</td>\n",
       "      <td>0.756667</td>\n",
       "      <td>0.813333</td>\n",
       "      <td>0.693333</td>\n",
       "      <td>0.666667</td>\n",
       "      <td>0.680000</td>\n",
       "      <td>0.726667</td>\n",
       "      <td>0.606667</td>\n",
       "      <td>1.010000</td>\n",
       "      <td>0.933333</td>\n",
       "      <td>0.603333</td>\n",
       "      <td>0.686667</td>\n",
       "      <td>0.673333</td>\n",
       "      <td>-245.7500</td>\n",
       "      <td>0.0</td>\n",
       "      <td>train</td>\n",
       "    </tr>\n",
       "    <tr>\n",
       "      <th>1</th>\n",
       "      <td>18495</td>\n",
       "      <td>Grp161</td>\n",
       "      <td>0.473333</td>\n",
       "      <td>1.206667</td>\n",
       "      <td>0.883333</td>\n",
       "      <td>1.430000</td>\n",
       "      <td>0.726667</td>\n",
       "      <td>0.626667</td>\n",
       "      <td>0.810000</td>\n",
       "      <td>0.783333</td>\n",
       "      <td>0.190000</td>\n",
       "      <td>0.470000</td>\n",
       "      <td>0.613333</td>\n",
       "      <td>0.883333</td>\n",
       "      <td>0.653333</td>\n",
       "      <td>0.463333</td>\n",
       "      <td>0.483333</td>\n",
       "      <td>0.583333</td>\n",
       "      <td>0.716667</td>\n",
       "      <td>0.743333</td>\n",
       "      <td>0.680000</td>\n",
       "      <td>0.690000</td>\n",
       "      <td>0.560000</td>\n",
       "      <td>0.670000</td>\n",
       "      <td>0.553333</td>\n",
       "      <td>0.653333</td>\n",
       "      <td>-248.0000</td>\n",
       "      <td>0.0</td>\n",
       "      <td>train</td>\n",
       "    </tr>\n",
       "    <tr>\n",
       "      <th>2</th>\n",
       "      <td>23915</td>\n",
       "      <td>Grp261</td>\n",
       "      <td>1.130000</td>\n",
       "      <td>0.143333</td>\n",
       "      <td>0.946667</td>\n",
       "      <td>0.123333</td>\n",
       "      <td>0.080000</td>\n",
       "      <td>0.836667</td>\n",
       "      <td>0.056667</td>\n",
       "      <td>0.756667</td>\n",
       "      <td>0.226667</td>\n",
       "      <td>0.660000</td>\n",
       "      <td>0.730000</td>\n",
       "      <td>0.873333</td>\n",
       "      <td>0.923333</td>\n",
       "      <td>1.223333</td>\n",
       "      <td>0.686667</td>\n",
       "      <td>0.606667</td>\n",
       "      <td>0.690000</td>\n",
       "      <td>0.820000</td>\n",
       "      <td>0.600000</td>\n",
       "      <td>0.383333</td>\n",
       "      <td>0.763333</td>\n",
       "      <td>0.670000</td>\n",
       "      <td>0.686667</td>\n",
       "      <td>0.673333</td>\n",
       "      <td>-233.1250</td>\n",
       "      <td>0.0</td>\n",
       "      <td>train</td>\n",
       "    </tr>\n",
       "    <tr>\n",
       "      <th>3</th>\n",
       "      <td>50806</td>\n",
       "      <td>Grp198</td>\n",
       "      <td>0.636667</td>\n",
       "      <td>1.090000</td>\n",
       "      <td>0.750000</td>\n",
       "      <td>0.940000</td>\n",
       "      <td>0.743333</td>\n",
       "      <td>0.346667</td>\n",
       "      <td>0.956667</td>\n",
       "      <td>0.633333</td>\n",
       "      <td>0.486667</td>\n",
       "      <td>1.096667</td>\n",
       "      <td>0.466667</td>\n",
       "      <td>0.670000</td>\n",
       "      <td>0.526667</td>\n",
       "      <td>0.783333</td>\n",
       "      <td>0.856667</td>\n",
       "      <td>0.716667</td>\n",
       "      <td>0.720000</td>\n",
       "      <td>0.900000</td>\n",
       "      <td>0.680000</td>\n",
       "      <td>0.846667</td>\n",
       "      <td>0.423333</td>\n",
       "      <td>0.520000</td>\n",
       "      <td>0.846667</td>\n",
       "      <td>0.760000</td>\n",
       "      <td>-249.7775</td>\n",
       "      <td>0.0</td>\n",
       "      <td>train</td>\n",
       "    </tr>\n",
       "    <tr>\n",
       "      <th>4</th>\n",
       "      <td>184244</td>\n",
       "      <td>Grp228</td>\n",
       "      <td>0.560000</td>\n",
       "      <td>1.013333</td>\n",
       "      <td>0.593333</td>\n",
       "      <td>0.416667</td>\n",
       "      <td>0.773333</td>\n",
       "      <td>0.460000</td>\n",
       "      <td>0.853333</td>\n",
       "      <td>0.796667</td>\n",
       "      <td>0.516667</td>\n",
       "      <td>0.756667</td>\n",
       "      <td>0.683333</td>\n",
       "      <td>0.296667</td>\n",
       "      <td>0.780000</td>\n",
       "      <td>0.636667</td>\n",
       "      <td>0.783333</td>\n",
       "      <td>0.630000</td>\n",
       "      <td>0.603333</td>\n",
       "      <td>0.486667</td>\n",
       "      <td>0.693333</td>\n",
       "      <td>0.526667</td>\n",
       "      <td>0.520000</td>\n",
       "      <td>0.716667</td>\n",
       "      <td>0.706667</td>\n",
       "      <td>0.673333</td>\n",
       "      <td>-247.5775</td>\n",
       "      <td>0.0</td>\n",
       "      <td>train</td>\n",
       "    </tr>\n",
       "  </tbody>\n",
       "</table>\n",
       "</div>"
      ],
      "text/plain": [
       "       id   Group      Per1      Per2      Per3      Per4      Per5      Per6  \\\n",
       "0  112751  Grp169  1.070000  0.580000  0.480000  0.766667  1.233333  1.993333   \n",
       "1   18495  Grp161  0.473333  1.206667  0.883333  1.430000  0.726667  0.626667   \n",
       "2   23915  Grp261  1.130000  0.143333  0.946667  0.123333  0.080000  0.836667   \n",
       "3   50806  Grp198  0.636667  1.090000  0.750000  0.940000  0.743333  0.346667   \n",
       "4  184244  Grp228  0.560000  1.013333  0.593333  0.416667  0.773333  0.460000   \n",
       "\n",
       "       Per7      Per8      Per9      Dem1      Dem2      Dem3      Dem4  \\\n",
       "0  0.340000  1.010000  0.863333  0.460000  0.643333  0.736667  0.756667   \n",
       "1  0.810000  0.783333  0.190000  0.470000  0.613333  0.883333  0.653333   \n",
       "2  0.056667  0.756667  0.226667  0.660000  0.730000  0.873333  0.923333   \n",
       "3  0.956667  0.633333  0.486667  1.096667  0.466667  0.670000  0.526667   \n",
       "4  0.853333  0.796667  0.516667  0.756667  0.683333  0.296667  0.780000   \n",
       "\n",
       "       Dem5      Dem6      Dem7      Dem8      Dem9     Cred1     Cred2  \\\n",
       "0  0.813333  0.693333  0.666667  0.680000  0.726667  0.606667  1.010000   \n",
       "1  0.463333  0.483333  0.583333  0.716667  0.743333  0.680000  0.690000   \n",
       "2  1.223333  0.686667  0.606667  0.690000  0.820000  0.600000  0.383333   \n",
       "3  0.783333  0.856667  0.716667  0.720000  0.900000  0.680000  0.846667   \n",
       "4  0.636667  0.783333  0.630000  0.603333  0.486667  0.693333  0.526667   \n",
       "\n",
       "      Cred3     Cred4     Cred5     Cred6  Normalised_FNT  Target   data  \n",
       "0  0.933333  0.603333  0.686667  0.673333       -245.7500     0.0  train  \n",
       "1  0.560000  0.670000  0.553333  0.653333       -248.0000     0.0  train  \n",
       "2  0.763333  0.670000  0.686667  0.673333       -233.1250     0.0  train  \n",
       "3  0.423333  0.520000  0.846667  0.760000       -249.7775     0.0  train  \n",
       "4  0.520000  0.716667  0.706667  0.673333       -247.5775     0.0  train  "
      ]
     },
     "execution_count": 36,
     "metadata": {},
     "output_type": "execute_result"
    }
   ],
   "source": [
    "df.head()"
   ]
  },
  {
   "cell_type": "code",
   "execution_count": 37,
   "id": "0ad24777-dc31-4490-983f-68ad22400983",
   "metadata": {},
   "outputs": [
    {
     "name": "stdout",
     "output_type": "stream",
     "text": [
      "*******************Unique ID to the customer****************\n",
      "qset 284807\n",
      "******************\n",
      "geo 284807\n",
      "******************\n",
      "insatance 284807\n",
      "******************\n",
      "df 284807\n",
      "******************\n",
      "\n",
      "\n",
      "*******************Unique Group to the customer****************\n",
      "\n",
      "\n",
      "lmbda 1400\n",
      "******************\n",
      "df 1400\n",
      "******************\n"
     ]
    }
   ],
   "source": [
    "print(\"*******************Unique ID to the customer****************\")\n",
    "print(\"qset\",qset['id'].nunique())\n",
    "print(\"******************\")\n",
    "print(\"geo\", geo['id'].nunique())\n",
    "print(\"******************\")\n",
    "print(\"insatance\",insatance['id'].nunique())\n",
    "print(\"******************\")\n",
    "print(\"df\", df['id'].nunique())\n",
    "print(\"******************\")\n",
    "print()\n",
    "print()\n",
    "print(\"*******************Unique Group to the customer****************\")\n",
    "print()\n",
    "print()\n",
    "print(\"lmbda\",lmd['Group'].nunique())\n",
    "print(\"******************\")\n",
    "print(\"df\",df['Group'].nunique())\n",
    "print(\"******************\")"
   ]
  },
  {
   "cell_type": "code",
   "execution_count": 38,
   "id": "0577cdab-19f2-4b94-ba90-fe0e5b095f23",
   "metadata": {},
   "outputs": [
    {
     "data": {
      "text/plain": [
       "(284807, 29)"
      ]
     },
     "execution_count": 38,
     "metadata": {},
     "output_type": "execute_result"
    }
   ],
   "source": [
    "df.shape"
   ]
  },
  {
   "cell_type": "markdown",
   "id": "2fc12b6d-afc9-43a8-a4a8-cded92f4621f",
   "metadata": {},
   "source": [
    "#### Here the main problem comes df(train_test_table) have all unique customer details, But where reamining 3 tables contains more data than df ,Because every customer do many transactions so they all regestered.\n",
    "- so we need to group it according to 'ID'"
   ]
  },
  {
   "cell_type": "code",
   "execution_count": 40,
   "id": "2cc7723b-6b8f-4ccb-a414-3ba68b411407",
   "metadata": {},
   "outputs": [],
   "source": [
    "geo = geo.groupby('id').mean()\n",
    "insatance = insatance.groupby('id').mean()\n",
    "qset = qset.groupby('id').mean()"
   ]
  },
  {
   "cell_type": "code",
   "execution_count": 41,
   "id": "d8bc21fe-73cb-4046-a94a-c2bbc849af65",
   "metadata": {},
   "outputs": [
    {
     "data": {
      "text/plain": [
       "(284807, 1)"
      ]
     },
     "execution_count": 41,
     "metadata": {},
     "output_type": "execute_result"
    }
   ],
   "source": [
    "geo.shape"
   ]
  },
  {
   "cell_type": "code",
   "execution_count": 42,
   "id": "63817991-1357-4624-8c33-45368bdc1991",
   "metadata": {},
   "outputs": [
    {
     "data": {
      "text/plain": [
       "(284807, 1)"
      ]
     },
     "execution_count": 42,
     "metadata": {},
     "output_type": "execute_result"
    }
   ],
   "source": [
    "insatance.shape"
   ]
  },
  {
   "cell_type": "code",
   "execution_count": 43,
   "id": "c0eb2221-6e5e-4d98-ae3b-a1950911899a",
   "metadata": {},
   "outputs": [
    {
     "data": {
      "text/plain": [
       "(284807, 1)"
      ]
     },
     "execution_count": 43,
     "metadata": {},
     "output_type": "execute_result"
    }
   ],
   "source": [
    "qset.shape"
   ]
  },
  {
   "cell_type": "code",
   "execution_count": 44,
   "id": "5998b9a5-38cd-4bfe-913a-82f7464f379c",
   "metadata": {},
   "outputs": [
    {
     "data": {
      "text/plain": [
       "(1400, 2)"
      ]
     },
     "execution_count": 44,
     "metadata": {},
     "output_type": "execute_result"
    }
   ],
   "source": [
    "lmd.shape"
   ]
  },
  {
   "cell_type": "code",
   "execution_count": 45,
   "id": "ffdc2446-7aab-4168-bfb2-b8deec7dbfef",
   "metadata": {},
   "outputs": [
    {
     "data": {
      "text/html": [
       "<div>\n",
       "<style scoped>\n",
       "    .dataframe tbody tr th:only-of-type {\n",
       "        vertical-align: middle;\n",
       "    }\n",
       "\n",
       "    .dataframe tbody tr th {\n",
       "        vertical-align: top;\n",
       "    }\n",
       "\n",
       "    .dataframe thead th {\n",
       "        text-align: right;\n",
       "    }\n",
       "</style>\n",
       "<table border=\"1\" class=\"dataframe\">\n",
       "  <thead>\n",
       "    <tr style=\"text-align: right;\">\n",
       "      <th></th>\n",
       "      <th>Group</th>\n",
       "      <th>lambda_wt</th>\n",
       "    </tr>\n",
       "  </thead>\n",
       "  <tbody>\n",
       "    <tr>\n",
       "      <th>0</th>\n",
       "      <td>Grp936</td>\n",
       "      <td>3.41</td>\n",
       "    </tr>\n",
       "    <tr>\n",
       "      <th>1</th>\n",
       "      <td>Grp347</td>\n",
       "      <td>-2.88</td>\n",
       "    </tr>\n",
       "  </tbody>\n",
       "</table>\n",
       "</div>"
      ],
      "text/plain": [
       "    Group  lambda_wt\n",
       "0  Grp936       3.41\n",
       "1  Grp347      -2.88"
      ]
     },
     "execution_count": 45,
     "metadata": {},
     "output_type": "execute_result"
    }
   ],
   "source": [
    "lmd.head(2)"
   ]
  },
  {
   "cell_type": "code",
   "execution_count": 46,
   "id": "2f73c3ff-2b2d-4c43-aa1f-79e62e0dda56",
   "metadata": {},
   "outputs": [],
   "source": [
    "#### now we merge the df table with lambda table by grouping the groups "
   ]
  },
  {
   "cell_type": "code",
   "execution_count": 47,
   "id": "bd93f767-45d0-4703-b2a1-870f2e094e69",
   "metadata": {},
   "outputs": [],
   "source": [
    "df = pd.merge(df, lmd, on='Group', how='left')"
   ]
  },
  {
   "cell_type": "code",
   "execution_count": 48,
   "id": "dc6efbc5-fec7-45d1-b17b-cc53dc5eeb6c",
   "metadata": {},
   "outputs": [
    {
     "data": {
      "text/plain": [
       "(284807, 30)"
      ]
     },
     "execution_count": 48,
     "metadata": {},
     "output_type": "execute_result"
    }
   ],
   "source": [
    "df.shape"
   ]
  },
  {
   "cell_type": "markdown",
   "id": "0008d0fc-d91c-4c14-8936-7516efbbb486",
   "metadata": {},
   "source": [
    "### now remaining tables"
   ]
  },
  {
   "cell_type": "code",
   "execution_count": 50,
   "id": "fc5b960e-562e-461d-8d39-042c8a9d16ec",
   "metadata": {},
   "outputs": [],
   "source": [
    "df=pd.merge(df,qset,on='id',how='left')"
   ]
  },
  {
   "cell_type": "code",
   "execution_count": 51,
   "id": "ef723f0c-3a8a-43aa-b594-cb2f9fe82a5d",
   "metadata": {},
   "outputs": [],
   "source": [
    "df=pd.merge(df,geo,on='id',how='left')"
   ]
  },
  {
   "cell_type": "code",
   "execution_count": 52,
   "id": "6a24ae5e-1c1f-4dd2-aa50-d5b119710c67",
   "metadata": {},
   "outputs": [],
   "source": [
    "df=pd.merge(df,insatance,on='id',how='left')"
   ]
  },
  {
   "cell_type": "code",
   "execution_count": 53,
   "id": "e4981e5a-357d-4cbb-94f3-1e2997ecfa98",
   "metadata": {},
   "outputs": [
    {
     "data": {
      "text/plain": [
       "(284807, 33)"
      ]
     },
     "execution_count": 53,
     "metadata": {},
     "output_type": "execute_result"
    }
   ],
   "source": [
    "df.shape"
   ]
  },
  {
   "cell_type": "code",
   "execution_count": 54,
   "id": "b457b7cc-1d76-4f33-8618-7c9231fd5fe8",
   "metadata": {},
   "outputs": [
    {
     "data": {
      "text/html": [
       "<div>\n",
       "<style scoped>\n",
       "    .dataframe tbody tr th:only-of-type {\n",
       "        vertical-align: middle;\n",
       "    }\n",
       "\n",
       "    .dataframe tbody tr th {\n",
       "        vertical-align: top;\n",
       "    }\n",
       "\n",
       "    .dataframe thead th {\n",
       "        text-align: right;\n",
       "    }\n",
       "</style>\n",
       "<table border=\"1\" class=\"dataframe\">\n",
       "  <thead>\n",
       "    <tr style=\"text-align: right;\">\n",
       "      <th></th>\n",
       "      <th>id</th>\n",
       "      <th>Group</th>\n",
       "      <th>Per1</th>\n",
       "      <th>Per2</th>\n",
       "      <th>Per3</th>\n",
       "      <th>Per4</th>\n",
       "      <th>Per5</th>\n",
       "      <th>Per6</th>\n",
       "      <th>Per7</th>\n",
       "      <th>Per8</th>\n",
       "      <th>Per9</th>\n",
       "      <th>Dem1</th>\n",
       "      <th>Dem2</th>\n",
       "      <th>Dem3</th>\n",
       "      <th>Dem4</th>\n",
       "      <th>Dem5</th>\n",
       "      <th>Dem6</th>\n",
       "      <th>Dem7</th>\n",
       "      <th>Dem8</th>\n",
       "      <th>Dem9</th>\n",
       "      <th>Cred1</th>\n",
       "      <th>Cred2</th>\n",
       "      <th>Cred3</th>\n",
       "      <th>Cred4</th>\n",
       "      <th>Cred5</th>\n",
       "      <th>Cred6</th>\n",
       "      <th>Normalised_FNT</th>\n",
       "      <th>Target</th>\n",
       "      <th>data</th>\n",
       "      <th>lambda_wt</th>\n",
       "      <th>qsets_normalized_tat</th>\n",
       "      <th>geo_score</th>\n",
       "      <th>instance_scores</th>\n",
       "    </tr>\n",
       "  </thead>\n",
       "  <tbody>\n",
       "    <tr>\n",
       "      <th>0</th>\n",
       "      <td>112751</td>\n",
       "      <td>Grp169</td>\n",
       "      <td>1.070000</td>\n",
       "      <td>0.580000</td>\n",
       "      <td>0.480000</td>\n",
       "      <td>0.766667</td>\n",
       "      <td>1.233333</td>\n",
       "      <td>1.993333</td>\n",
       "      <td>0.34</td>\n",
       "      <td>1.010000</td>\n",
       "      <td>0.863333</td>\n",
       "      <td>0.46</td>\n",
       "      <td>0.643333</td>\n",
       "      <td>0.736667</td>\n",
       "      <td>0.756667</td>\n",
       "      <td>0.813333</td>\n",
       "      <td>0.693333</td>\n",
       "      <td>0.666667</td>\n",
       "      <td>0.680000</td>\n",
       "      <td>0.726667</td>\n",
       "      <td>0.606667</td>\n",
       "      <td>1.01</td>\n",
       "      <td>0.933333</td>\n",
       "      <td>0.603333</td>\n",
       "      <td>0.686667</td>\n",
       "      <td>0.673333</td>\n",
       "      <td>-245.75</td>\n",
       "      <td>0.0</td>\n",
       "      <td>train</td>\n",
       "      <td>-0.13</td>\n",
       "      <td>-0.70</td>\n",
       "      <td>0.256</td>\n",
       "      <td>-0.06</td>\n",
       "    </tr>\n",
       "    <tr>\n",
       "      <th>1</th>\n",
       "      <td>18495</td>\n",
       "      <td>Grp161</td>\n",
       "      <td>0.473333</td>\n",
       "      <td>1.206667</td>\n",
       "      <td>0.883333</td>\n",
       "      <td>1.430000</td>\n",
       "      <td>0.726667</td>\n",
       "      <td>0.626667</td>\n",
       "      <td>0.81</td>\n",
       "      <td>0.783333</td>\n",
       "      <td>0.190000</td>\n",
       "      <td>0.47</td>\n",
       "      <td>0.613333</td>\n",
       "      <td>0.883333</td>\n",
       "      <td>0.653333</td>\n",
       "      <td>0.463333</td>\n",
       "      <td>0.483333</td>\n",
       "      <td>0.583333</td>\n",
       "      <td>0.716667</td>\n",
       "      <td>0.743333</td>\n",
       "      <td>0.680000</td>\n",
       "      <td>0.69</td>\n",
       "      <td>0.560000</td>\n",
       "      <td>0.670000</td>\n",
       "      <td>0.553333</td>\n",
       "      <td>0.653333</td>\n",
       "      <td>-248.00</td>\n",
       "      <td>0.0</td>\n",
       "      <td>train</td>\n",
       "      <td>0.66</td>\n",
       "      <td>0.14</td>\n",
       "      <td>-0.250</td>\n",
       "      <td>0.52</td>\n",
       "    </tr>\n",
       "  </tbody>\n",
       "</table>\n",
       "</div>"
      ],
      "text/plain": [
       "       id   Group      Per1      Per2      Per3      Per4      Per5      Per6  \\\n",
       "0  112751  Grp169  1.070000  0.580000  0.480000  0.766667  1.233333  1.993333   \n",
       "1   18495  Grp161  0.473333  1.206667  0.883333  1.430000  0.726667  0.626667   \n",
       "\n",
       "   Per7      Per8      Per9  Dem1      Dem2      Dem3      Dem4      Dem5  \\\n",
       "0  0.34  1.010000  0.863333  0.46  0.643333  0.736667  0.756667  0.813333   \n",
       "1  0.81  0.783333  0.190000  0.47  0.613333  0.883333  0.653333  0.463333   \n",
       "\n",
       "       Dem6      Dem7      Dem8      Dem9     Cred1  Cred2     Cred3  \\\n",
       "0  0.693333  0.666667  0.680000  0.726667  0.606667   1.01  0.933333   \n",
       "1  0.483333  0.583333  0.716667  0.743333  0.680000   0.69  0.560000   \n",
       "\n",
       "      Cred4     Cred5     Cred6  Normalised_FNT  Target   data  lambda_wt  \\\n",
       "0  0.603333  0.686667  0.673333         -245.75     0.0  train      -0.13   \n",
       "1  0.670000  0.553333  0.653333         -248.00     0.0  train       0.66   \n",
       "\n",
       "   qsets_normalized_tat  geo_score  instance_scores  \n",
       "0                 -0.70      0.256            -0.06  \n",
       "1                  0.14     -0.250             0.52  "
      ]
     },
     "execution_count": 54,
     "metadata": {},
     "output_type": "execute_result"
    }
   ],
   "source": [
    "df.head(2)"
   ]
  },
  {
   "cell_type": "markdown",
   "id": "3c52fa84-3842-4293-a624-eb49bd6cda82",
   "metadata": {},
   "source": [
    "#### now we need to split the seen(target given) and unseen(target not given) data "
   ]
  },
  {
   "cell_type": "code",
   "execution_count": 56,
   "id": "0e69ede7-d09e-4d31-acc4-b03a6d3b0e3d",
   "metadata": {},
   "outputs": [],
   "source": [
    "train = df[df['data']=='train']\n",
    "test = df[df['data']=='test']"
   ]
  },
  {
   "cell_type": "code",
   "execution_count": 57,
   "id": "52d813b4-a839-493b-b27c-b1aac589a485",
   "metadata": {},
   "outputs": [
    {
     "data": {
      "text/plain": [
       "(227845, 33)"
      ]
     },
     "execution_count": 57,
     "metadata": {},
     "output_type": "execute_result"
    }
   ],
   "source": [
    "train.shape"
   ]
  },
  {
   "cell_type": "code",
   "execution_count": 58,
   "id": "2f26303e-5a50-4439-96cc-34d0220a7a64",
   "metadata": {},
   "outputs": [
    {
     "data": {
      "text/plain": [
       "(56962, 33)"
      ]
     },
     "execution_count": 58,
     "metadata": {},
     "output_type": "execute_result"
    }
   ],
   "source": [
    "test.shape"
   ]
  },
  {
   "cell_type": "code",
   "execution_count": 59,
   "id": "82394b66-1c7b-468a-b80f-7c2eefbe652a",
   "metadata": {},
   "outputs": [],
   "source": [
    "train.drop(['id','data'],axis=1,inplace=True)"
   ]
  },
  {
   "cell_type": "code",
   "execution_count": 60,
   "id": "d9153181-dd1b-4104-9514-ce3d9267e99b",
   "metadata": {},
   "outputs": [],
   "source": [
    "test.drop(['id','Target','data'],axis=1,inplace=True)"
   ]
  },
  {
   "cell_type": "code",
   "execution_count": 61,
   "id": "93e6049c-8caf-4e3b-920c-8dc954acc1a4",
   "metadata": {},
   "outputs": [
    {
     "data": {
      "text/plain": [
       "Group                    object\n",
       "Per1                    float64\n",
       "Per2                    float64\n",
       "Per3                    float64\n",
       "Per4                    float64\n",
       "Per5                    float64\n",
       "Per6                    float64\n",
       "Per7                    float64\n",
       "Per8                    float64\n",
       "Per9                    float64\n",
       "Dem1                    float64\n",
       "Dem2                    float64\n",
       "Dem3                    float64\n",
       "Dem4                    float64\n",
       "Dem5                    float64\n",
       "Dem6                    float64\n",
       "Dem7                    float64\n",
       "Dem8                    float64\n",
       "Dem9                    float64\n",
       "Cred1                   float64\n",
       "Cred2                   float64\n",
       "Cred3                   float64\n",
       "Cred4                   float64\n",
       "Cred5                   float64\n",
       "Cred6                   float64\n",
       "Normalised_FNT          float64\n",
       "Target                  float64\n",
       "lambda_wt               float64\n",
       "qsets_normalized_tat    float64\n",
       "geo_score               float64\n",
       "instance_scores         float64\n",
       "dtype: object"
      ]
     },
     "execution_count": 61,
     "metadata": {},
     "output_type": "execute_result"
    }
   ],
   "source": [
    "train.dtypes"
   ]
  },
  {
   "cell_type": "code",
   "execution_count": 62,
   "id": "af6431c8-cef2-413d-8d8e-da2d0e457074",
   "metadata": {},
   "outputs": [
    {
     "data": {
      "text/plain": [
       "Group                    object\n",
       "Per1                    float64\n",
       "Per2                    float64\n",
       "Per3                    float64\n",
       "Per4                    float64\n",
       "Per5                    float64\n",
       "Per6                    float64\n",
       "Per7                    float64\n",
       "Per8                    float64\n",
       "Per9                    float64\n",
       "Dem1                    float64\n",
       "Dem2                    float64\n",
       "Dem3                    float64\n",
       "Dem4                    float64\n",
       "Dem5                    float64\n",
       "Dem6                    float64\n",
       "Dem7                    float64\n",
       "Dem8                    float64\n",
       "Dem9                    float64\n",
       "Cred1                   float64\n",
       "Cred2                   float64\n",
       "Cred3                   float64\n",
       "Cred4                   float64\n",
       "Cred5                   float64\n",
       "Cred6                   float64\n",
       "Normalised_FNT          float64\n",
       "lambda_wt               float64\n",
       "qsets_normalized_tat    float64\n",
       "geo_score               float64\n",
       "instance_scores         float64\n",
       "dtype: object"
      ]
     },
     "execution_count": 62,
     "metadata": {},
     "output_type": "execute_result"
    }
   ],
   "source": [
    "test.dtypes"
   ]
  },
  {
   "cell_type": "markdown",
   "id": "b2b28413-9e63-476a-9ba7-8d3bc39ee3c4",
   "metadata": {},
   "source": [
    "##### we have object(string data type) in the data set it is not recogoncise by the algorithm so we need to change it"
   ]
  },
  {
   "cell_type": "code",
   "execution_count": 64,
   "id": "60f69e3d-6f7b-420e-8a38-f2de8c4514d8",
   "metadata": {},
   "outputs": [],
   "source": [
    "train['Group'] = train['Group'].astype('category')\n",
    "train['Group'] = train['Group'].cat.codes"
   ]
  },
  {
   "cell_type": "code",
   "execution_count": 65,
   "id": "07daec51-078b-4a0f-888d-d131bfafd786",
   "metadata": {},
   "outputs": [],
   "source": [
    "test['Group'] = test['Group'].astype('category')\n",
    "test['Group'] = test['Group'].cat.codes"
   ]
  },
  {
   "cell_type": "markdown",
   "id": "320c0450-f62f-4bd4-a96e-2403cd66ed10",
   "metadata": {},
   "source": [
    "#### spliting the data as x and y"
   ]
  },
  {
   "cell_type": "code",
   "execution_count": 67,
   "id": "d3d0d2f7-faed-4a2f-b777-09fcc68c6284",
   "metadata": {},
   "outputs": [],
   "source": [
    "x=train.drop('Target',axis=1)\n",
    "y=train['Target']"
   ]
  },
  {
   "cell_type": "code",
   "execution_count": 68,
   "id": "58bd3d8a-1548-4dad-9b39-9d07cbfc21c8",
   "metadata": {},
   "outputs": [
    {
     "data": {
      "text/plain": [
       "(227845, 30)"
      ]
     },
     "execution_count": 68,
     "metadata": {},
     "output_type": "execute_result"
    }
   ],
   "source": [
    "x.shape"
   ]
  },
  {
   "cell_type": "code",
   "execution_count": 69,
   "id": "ca87d639-d130-4e95-a812-cfaf498bbe06",
   "metadata": {},
   "outputs": [
    {
     "data": {
      "text/plain": [
       "0    0.0\n",
       "1    0.0\n",
       "2    0.0\n",
       "3    0.0\n",
       "4    0.0\n",
       "Name: Target, dtype: float64"
      ]
     },
     "execution_count": 69,
     "metadata": {},
     "output_type": "execute_result"
    }
   ],
   "source": [
    "y.head()"
   ]
  },
  {
   "cell_type": "code",
   "execution_count": 70,
   "id": "a060024e-9363-4077-ae9c-a74113461884",
   "metadata": {},
   "outputs": [],
   "source": [
    "y=pd.DataFrame(y)"
   ]
  },
  {
   "cell_type": "code",
   "execution_count": 71,
   "id": "604a40fd-f742-4f10-8683-7e839485543b",
   "metadata": {},
   "outputs": [
    {
     "data": {
      "text/html": [
       "<div>\n",
       "<style scoped>\n",
       "    .dataframe tbody tr th:only-of-type {\n",
       "        vertical-align: middle;\n",
       "    }\n",
       "\n",
       "    .dataframe tbody tr th {\n",
       "        vertical-align: top;\n",
       "    }\n",
       "\n",
       "    .dataframe thead th {\n",
       "        text-align: right;\n",
       "    }\n",
       "</style>\n",
       "<table border=\"1\" class=\"dataframe\">\n",
       "  <thead>\n",
       "    <tr style=\"text-align: right;\">\n",
       "      <th></th>\n",
       "      <th>Group</th>\n",
       "      <th>Per1</th>\n",
       "      <th>Per2</th>\n",
       "      <th>Per3</th>\n",
       "      <th>Per4</th>\n",
       "      <th>Per5</th>\n",
       "      <th>Per6</th>\n",
       "      <th>Per7</th>\n",
       "      <th>Per8</th>\n",
       "      <th>Per9</th>\n",
       "      <th>Dem1</th>\n",
       "      <th>Dem2</th>\n",
       "      <th>Dem3</th>\n",
       "      <th>Dem4</th>\n",
       "      <th>Dem5</th>\n",
       "      <th>Dem6</th>\n",
       "      <th>Dem7</th>\n",
       "      <th>Dem8</th>\n",
       "      <th>Dem9</th>\n",
       "      <th>Cred1</th>\n",
       "      <th>Cred2</th>\n",
       "      <th>Cred3</th>\n",
       "      <th>Cred4</th>\n",
       "      <th>Cred5</th>\n",
       "      <th>Cred6</th>\n",
       "      <th>Normalised_FNT</th>\n",
       "      <th>lambda_wt</th>\n",
       "      <th>qsets_normalized_tat</th>\n",
       "      <th>geo_score</th>\n",
       "      <th>instance_scores</th>\n",
       "    </tr>\n",
       "  </thead>\n",
       "  <tbody>\n",
       "    <tr>\n",
       "      <th>0</th>\n",
       "      <td>420</td>\n",
       "      <td>1.070000</td>\n",
       "      <td>0.580000</td>\n",
       "      <td>0.480000</td>\n",
       "      <td>0.766667</td>\n",
       "      <td>1.233333</td>\n",
       "      <td>1.993333</td>\n",
       "      <td>0.340000</td>\n",
       "      <td>1.010000</td>\n",
       "      <td>0.863333</td>\n",
       "      <td>0.460000</td>\n",
       "      <td>0.643333</td>\n",
       "      <td>0.736667</td>\n",
       "      <td>0.756667</td>\n",
       "      <td>0.813333</td>\n",
       "      <td>0.693333</td>\n",
       "      <td>0.666667</td>\n",
       "      <td>0.680000</td>\n",
       "      <td>0.726667</td>\n",
       "      <td>0.606667</td>\n",
       "      <td>1.010000</td>\n",
       "      <td>0.933333</td>\n",
       "      <td>0.603333</td>\n",
       "      <td>0.686667</td>\n",
       "      <td>0.673333</td>\n",
       "      <td>-245.7500</td>\n",
       "      <td>-0.13</td>\n",
       "      <td>-0.700</td>\n",
       "      <td>0.256</td>\n",
       "      <td>-0.06</td>\n",
       "    </tr>\n",
       "    <tr>\n",
       "      <th>1</th>\n",
       "      <td>413</td>\n",
       "      <td>0.473333</td>\n",
       "      <td>1.206667</td>\n",
       "      <td>0.883333</td>\n",
       "      <td>1.430000</td>\n",
       "      <td>0.726667</td>\n",
       "      <td>0.626667</td>\n",
       "      <td>0.810000</td>\n",
       "      <td>0.783333</td>\n",
       "      <td>0.190000</td>\n",
       "      <td>0.470000</td>\n",
       "      <td>0.613333</td>\n",
       "      <td>0.883333</td>\n",
       "      <td>0.653333</td>\n",
       "      <td>0.463333</td>\n",
       "      <td>0.483333</td>\n",
       "      <td>0.583333</td>\n",
       "      <td>0.716667</td>\n",
       "      <td>0.743333</td>\n",
       "      <td>0.680000</td>\n",
       "      <td>0.690000</td>\n",
       "      <td>0.560000</td>\n",
       "      <td>0.670000</td>\n",
       "      <td>0.553333</td>\n",
       "      <td>0.653333</td>\n",
       "      <td>-248.0000</td>\n",
       "      <td>0.66</td>\n",
       "      <td>0.140</td>\n",
       "      <td>-0.250</td>\n",
       "      <td>0.52</td>\n",
       "    </tr>\n",
       "    <tr>\n",
       "      <th>2</th>\n",
       "      <td>523</td>\n",
       "      <td>1.130000</td>\n",
       "      <td>0.143333</td>\n",
       "      <td>0.946667</td>\n",
       "      <td>0.123333</td>\n",
       "      <td>0.080000</td>\n",
       "      <td>0.836667</td>\n",
       "      <td>0.056667</td>\n",
       "      <td>0.756667</td>\n",
       "      <td>0.226667</td>\n",
       "      <td>0.660000</td>\n",
       "      <td>0.730000</td>\n",
       "      <td>0.873333</td>\n",
       "      <td>0.923333</td>\n",
       "      <td>1.223333</td>\n",
       "      <td>0.686667</td>\n",
       "      <td>0.606667</td>\n",
       "      <td>0.690000</td>\n",
       "      <td>0.820000</td>\n",
       "      <td>0.600000</td>\n",
       "      <td>0.383333</td>\n",
       "      <td>0.763333</td>\n",
       "      <td>0.670000</td>\n",
       "      <td>0.686667</td>\n",
       "      <td>0.673333</td>\n",
       "      <td>-233.1250</td>\n",
       "      <td>-0.51</td>\n",
       "      <td>-0.430</td>\n",
       "      <td>-0.950</td>\n",
       "      <td>1.56</td>\n",
       "    </tr>\n",
       "    <tr>\n",
       "      <th>3</th>\n",
       "      <td>452</td>\n",
       "      <td>0.636667</td>\n",
       "      <td>1.090000</td>\n",
       "      <td>0.750000</td>\n",
       "      <td>0.940000</td>\n",
       "      <td>0.743333</td>\n",
       "      <td>0.346667</td>\n",
       "      <td>0.956667</td>\n",
       "      <td>0.633333</td>\n",
       "      <td>0.486667</td>\n",
       "      <td>1.096667</td>\n",
       "      <td>0.466667</td>\n",
       "      <td>0.670000</td>\n",
       "      <td>0.526667</td>\n",
       "      <td>0.783333</td>\n",
       "      <td>0.856667</td>\n",
       "      <td>0.716667</td>\n",
       "      <td>0.720000</td>\n",
       "      <td>0.900000</td>\n",
       "      <td>0.680000</td>\n",
       "      <td>0.846667</td>\n",
       "      <td>0.423333</td>\n",
       "      <td>0.520000</td>\n",
       "      <td>0.846667</td>\n",
       "      <td>0.760000</td>\n",
       "      <td>-249.7775</td>\n",
       "      <td>0.72</td>\n",
       "      <td>-0.302</td>\n",
       "      <td>0.490</td>\n",
       "      <td>0.70</td>\n",
       "    </tr>\n",
       "    <tr>\n",
       "      <th>4</th>\n",
       "      <td>486</td>\n",
       "      <td>0.560000</td>\n",
       "      <td>1.013333</td>\n",
       "      <td>0.593333</td>\n",
       "      <td>0.416667</td>\n",
       "      <td>0.773333</td>\n",
       "      <td>0.460000</td>\n",
       "      <td>0.853333</td>\n",
       "      <td>0.796667</td>\n",
       "      <td>0.516667</td>\n",
       "      <td>0.756667</td>\n",
       "      <td>0.683333</td>\n",
       "      <td>0.296667</td>\n",
       "      <td>0.780000</td>\n",
       "      <td>0.636667</td>\n",
       "      <td>0.783333</td>\n",
       "      <td>0.630000</td>\n",
       "      <td>0.603333</td>\n",
       "      <td>0.486667</td>\n",
       "      <td>0.693333</td>\n",
       "      <td>0.526667</td>\n",
       "      <td>0.520000</td>\n",
       "      <td>0.716667</td>\n",
       "      <td>0.706667</td>\n",
       "      <td>0.673333</td>\n",
       "      <td>-247.5775</td>\n",
       "      <td>0.60</td>\n",
       "      <td>-0.630</td>\n",
       "      <td>0.850</td>\n",
       "      <td>-0.47</td>\n",
       "    </tr>\n",
       "  </tbody>\n",
       "</table>\n",
       "</div>"
      ],
      "text/plain": [
       "   Group      Per1      Per2      Per3      Per4      Per5      Per6  \\\n",
       "0    420  1.070000  0.580000  0.480000  0.766667  1.233333  1.993333   \n",
       "1    413  0.473333  1.206667  0.883333  1.430000  0.726667  0.626667   \n",
       "2    523  1.130000  0.143333  0.946667  0.123333  0.080000  0.836667   \n",
       "3    452  0.636667  1.090000  0.750000  0.940000  0.743333  0.346667   \n",
       "4    486  0.560000  1.013333  0.593333  0.416667  0.773333  0.460000   \n",
       "\n",
       "       Per7      Per8      Per9      Dem1      Dem2      Dem3      Dem4  \\\n",
       "0  0.340000  1.010000  0.863333  0.460000  0.643333  0.736667  0.756667   \n",
       "1  0.810000  0.783333  0.190000  0.470000  0.613333  0.883333  0.653333   \n",
       "2  0.056667  0.756667  0.226667  0.660000  0.730000  0.873333  0.923333   \n",
       "3  0.956667  0.633333  0.486667  1.096667  0.466667  0.670000  0.526667   \n",
       "4  0.853333  0.796667  0.516667  0.756667  0.683333  0.296667  0.780000   \n",
       "\n",
       "       Dem5      Dem6      Dem7      Dem8      Dem9     Cred1     Cred2  \\\n",
       "0  0.813333  0.693333  0.666667  0.680000  0.726667  0.606667  1.010000   \n",
       "1  0.463333  0.483333  0.583333  0.716667  0.743333  0.680000  0.690000   \n",
       "2  1.223333  0.686667  0.606667  0.690000  0.820000  0.600000  0.383333   \n",
       "3  0.783333  0.856667  0.716667  0.720000  0.900000  0.680000  0.846667   \n",
       "4  0.636667  0.783333  0.630000  0.603333  0.486667  0.693333  0.526667   \n",
       "\n",
       "      Cred3     Cred4     Cred5     Cred6  Normalised_FNT  lambda_wt  \\\n",
       "0  0.933333  0.603333  0.686667  0.673333       -245.7500      -0.13   \n",
       "1  0.560000  0.670000  0.553333  0.653333       -248.0000       0.66   \n",
       "2  0.763333  0.670000  0.686667  0.673333       -233.1250      -0.51   \n",
       "3  0.423333  0.520000  0.846667  0.760000       -249.7775       0.72   \n",
       "4  0.520000  0.716667  0.706667  0.673333       -247.5775       0.60   \n",
       "\n",
       "   qsets_normalized_tat  geo_score  instance_scores  \n",
       "0                -0.700      0.256            -0.06  \n",
       "1                 0.140     -0.250             0.52  \n",
       "2                -0.430     -0.950             1.56  \n",
       "3                -0.302      0.490             0.70  \n",
       "4                -0.630      0.850            -0.47  "
      ]
     },
     "execution_count": 71,
     "metadata": {},
     "output_type": "execute_result"
    }
   ],
   "source": [
    "x.head()"
   ]
  },
  {
   "cell_type": "markdown",
   "id": "31b69fd7-f337-4f65-9146-f179fa3d8dc2",
   "metadata": {},
   "source": [
    "#### tarin test split"
   ]
  },
  {
   "cell_type": "code",
   "execution_count": 73,
   "id": "6b5246db-4c96-45ef-a987-dc676f1307d1",
   "metadata": {},
   "outputs": [],
   "source": [
    "from sklearn.model_selection import train_test_split\n",
    "x_train,x_test,y_train,y_test=train_test_split(x,y,test_size=0.2,random_state=42,stratify=y)"
   ]
  },
  {
   "cell_type": "code",
   "execution_count": 74,
   "id": "ffd1ff7e-ff61-4310-bef5-e76db4a61516",
   "metadata": {},
   "outputs": [
    {
     "data": {
      "text/plain": [
       "Target\n",
       "0.0    181961\n",
       "1.0       315\n",
       "Name: count, dtype: int64"
      ]
     },
     "execution_count": 74,
     "metadata": {},
     "output_type": "execute_result"
    }
   ],
   "source": [
    "y_train['Target'].value_counts()"
   ]
  },
  {
   "cell_type": "code",
   "execution_count": 75,
   "id": "7a96ca6a-f4ea-4fac-a228-e246e353808f",
   "metadata": {},
   "outputs": [
    {
     "data": {
      "text/plain": [
       "Target\n",
       "0.0    45490\n",
       "1.0       79\n",
       "Name: count, dtype: int64"
      ]
     },
     "execution_count": 75,
     "metadata": {},
     "output_type": "execute_result"
    }
   ],
   "source": [
    "y_test['Target'].value_counts()"
   ]
  },
  {
   "cell_type": "markdown",
   "id": "c5079299-19cc-4d61-8afd-06d2307081d8",
   "metadata": {},
   "source": [
    "### Algorthim Building"
   ]
  },
  {
   "cell_type": "code",
   "execution_count": 77,
   "id": "ec4edee5-ae56-4b1b-94e0-49197d308c84",
   "metadata": {},
   "outputs": [],
   "source": [
    "from sklearn.linear_model import LogisticRegression\n",
    "from sklearn.tree import DecisionTreeClassifier\n",
    "from sklearn.ensemble import RandomForestClassifier\n",
    "from xgboost import XGBClassifier\n",
    "from sklearn.svm import SVC\n",
    "from sklearn.naive_bayes import GaussianNB\n",
    "from sklearn.neighbors import KNeighborsClassifier\n",
    "from sklearn.ensemble import VotingClassifier"
   ]
  },
  {
   "cell_type": "code",
   "execution_count": 78,
   "id": "ce2b3c5c-3171-4edd-a45c-ac75b925b6db",
   "metadata": {},
   "outputs": [],
   "source": [
    "from sklearn.metrics import confusion_matrix, classification_report, accuracy_score"
   ]
  },
  {
   "cell_type": "code",
   "execution_count": 79,
   "id": "582db1f2-445c-41ec-b0b3-a8f914e040d0",
   "metadata": {},
   "outputs": [
    {
     "name": "stdout",
     "output_type": "stream",
     "text": [
      "      Method Used  Accuracy\n",
      "0  LogitRegession  0.999166\n",
      "1           Dtree  0.999100\n",
      "2         RForest  0.999473\n",
      "3             XGB  0.999539\n",
      "4             KNN  0.999034\n",
      "5             SVM  0.998266\n",
      "6             NBT  0.977814\n",
      "7          Voting  0.999451\n",
      "Axes(0.125,0.11;0.775x0.77)\n"
     ]
    },
    {
     "data": {
      "image/png": "[encoded data removed]",
      "text/plain": [
       "<Figure size 640x480 with 1 Axes>"
      ]
     },
     "metadata": {},
     "output_type": "display_data"
    }
   ],
   "source": [
    "list_met = []\n",
    "list_accuracy = []\n",
    "\n",
    "# LogisticRegression\n",
    "logit = LogisticRegression()\n",
    "logit = logit.fit(x_train, y_train)\n",
    "y_pred_lr = logit.predict(x_test)\n",
    "accuracy_lr = accuracy_score(y_test, y_pred_lr)\n",
    "\n",
    "# DecisionTree\n",
    "dtree = DecisionTreeClassifier()\n",
    "dtree = dtree.fit(x_train, y_train)\n",
    "y_pred_dt = dtree.predict(x_test)\n",
    "accuracy_dt = accuracy_score(y_test, y_pred_dt)\n",
    "\n",
    "# RandomForest\n",
    "rforest = RandomForestClassifier()\n",
    "rforest = rforest.fit(x_train, y_train)\n",
    "y_pred_rf = rforest.predict(x_test)\n",
    "accuracy_rf = accuracy_score(y_test, y_pred_rf)\n",
    "\n",
    "# XGBoost\n",
    "xgboost = XGBClassifier()\n",
    "xgboost = xgboost.fit(x_train, y_train)\n",
    "y_pred_xg = xgboost.predict(x_test)\n",
    "accuracy_xg = accuracy_score(y_test, y_pred_xg)\n",
    "\n",
    "\n",
    "# KNN\n",
    "knn = KNeighborsClassifier()\n",
    "knn = knn.fit(x_train, y_train)\n",
    "y_pred_knn = knn.predict(x_test)\n",
    "accuracy_knn = accuracy_score(y_test, y_pred_knn)\n",
    "\n",
    "# SVM\n",
    "svm = SVC()\n",
    "svm = svm.fit(x_train, y_train)\n",
    "y_pred_svm = svm.predict(x_test)\n",
    "accuracy_svm = accuracy_score(y_test, y_pred_svm)\n",
    "\n",
    "# Naive Based Theorem\n",
    "nbt = GaussianNB()\n",
    "nbt = nbt.fit(x_train, y_train)\n",
    "y_pred_nbt = nbt.predict(x_test)\n",
    "accuracy_nbt = accuracy_score(y_test, y_pred_nbt)\n",
    "\n",
    "# Voting Classifier - combining all the above model together by using voting classifier approach\n",
    "model_evc = VotingClassifier(estimators = [('logit',logit), ('dtree',dtree), ('rforest',rforest),('xgboost',xgboost),\n",
    "                                           ('knn',knn),('svm',svm),('nbt',nbt)])\n",
    "model_evc = model_evc.fit(x_train, y_train)\n",
    "pred_evc = model_evc.predict(x_test)\n",
    "accuracy_evc = accuracy_score(y_test, pred_evc)\n",
    "\n",
    "list1 = ['LogitRegession','Dtree','RForest','XGB','KNN','SVM','NBT','Voting']\n",
    "list2 = [accuracy_lr,accuracy_dt,accuracy_rf,accuracy_xg,accuracy_knn,accuracy_svm,accuracy_nbt,accuracy_evc]\n",
    "list3 = [logit,dtree,rforest,xgboost,knn,svm,nbt,model_evc]\n",
    "\n",
    "df_accuracy = pd.DataFrame({\"Method Used\":list1, \"Accuracy\":list2})\n",
    "\n",
    "print(df_accuracy)\n",
    "\n",
    "chart = sns.barplot(x=\"Method Used\", y=\"Accuracy\", data=df_accuracy)\n",
    "chart.set_xticklabels(chart.get_xticklabels(), rotation=90)\n",
    "print(chart)                          \n",
    "                               "
   ]
  },
  {
   "cell_type": "code",
   "execution_count": 80,
   "id": "97f0228f-2b1a-4e07-95e6-b9f20a6e3c82",
   "metadata": {},
   "outputs": [
    {
     "name": "stdout",
     "output_type": "stream",
     "text": [
      "**************************************************\n",
      "Logistic Regression Evaluation:\n",
      "**************************************************\n",
      "Accuracy      : 99.92\n",
      "Precision     : 0.87\n",
      "Recall        : 0.61\n",
      "F1-Score      : 0.72\n",
      "roc_auc_score : 0.80\n",
      "\n",
      "\n",
      "**************************************************\n",
      "Decision Tree Evaluation:\n",
      "**************************************************\n",
      "Accuracy      : 99.91\n",
      "Precision     : 0.74\n",
      "Recall        : 0.75\n",
      "F1-Score      : 0.74\n",
      "roc_auc_score : 0.87\n",
      "\n",
      "\n",
      "**************************************************\n",
      "Random Forest Evaluation:\n",
      "**************************************************\n",
      "Accuracy      : 99.95\n",
      "Precision     : 0.95\n",
      "Recall        : 0.73\n",
      "F1-Score      : 0.83\n",
      "roc_auc_score : 0.87\n",
      "\n",
      "\n",
      "**************************************************\n",
      "XGBoost Evaluation:\n",
      "**************************************************\n",
      "Accuracy      : 99.95\n",
      "Precision     : 0.95\n",
      "Recall        : 0.77\n",
      "F1-Score      : 0.85\n",
      "roc_auc_score : 0.89\n",
      "\n",
      "\n",
      "**************************************************\n",
      "Support Vector Machine Evaluation:\n",
      "**************************************************\n",
      "Accuracy      : 99.83\n",
      "Precision     : 0.00\n",
      "Recall        : 0.00\n",
      "F1-Score      : 0.00\n",
      "roc_auc_score : 0.50\n",
      "\n",
      "\n",
      "**************************************************\n",
      "Naive Bayes Evaluation:\n",
      "**************************************************\n",
      "Accuracy      : 97.78\n",
      "Precision     : 0.06\n",
      "Recall        : 0.78\n",
      "F1-Score      : 0.11\n",
      "roc_auc_score : 0.88\n",
      "\n",
      "\n",
      "**************************************************\n",
      "K-Nearest Neighbors Evaluation:\n",
      "**************************************************\n",
      "Accuracy      : 99.90\n",
      "Precision     : 0.97\n",
      "Recall        : 0.46\n",
      "F1-Score      : 0.62\n",
      "roc_auc_score : 0.73\n",
      "\n",
      "\n",
      "**************************************************\n",
      "Voting Classifier\n",
      "**************************************************\n",
      "Accuracy      : 99.95\n",
      "Precision     : 0.95\n",
      "Recall        : 0.72\n",
      "F1-Score      : 0.82\n",
      "roc_auc_score : 0.86\n"
     ]
    }
   ],
   "source": [
    "from sklearn.metrics import accuracy_score, precision_score, recall_score, f1_score,roc_auc_score\n",
    "\n",
    "def evaluate_model(y_test, y_pred):\n",
    "    print(f\"Accuracy      : {accuracy_score(y_test, y_pred)*100:.2f}\")\n",
    "    print(f\"Precision     : {precision_score(y_test, y_pred):.2f}\")\n",
    "    print(f\"Recall        : {recall_score(y_test, y_pred):.2f}\")\n",
    "    print(f\"F1-Score      : {f1_score(y_test, y_pred):.2f}\")\n",
    "    print(f\"roc_auc_score : {roc_auc_score(y_test, y_pred):.2f}\")\n",
    "    \n",
    "print(\"*\"*50)\n",
    "print(\"Logistic Regression Evaluation:\")\n",
    "print(\"*\"*50)\n",
    "evaluate_model(y_test, y_pred_lr)\n",
    "\n",
    "print(\"\\n\")\n",
    "\n",
    "print(\"*\"*50)\n",
    "print(\"Decision Tree Evaluation:\")\n",
    "print(\"*\"*50)\n",
    "evaluate_model(y_test, y_pred_dt)\n",
    "\n",
    "print(\"\\n\")\n",
    "\n",
    "print(\"*\"*50)\n",
    "print(\"Random Forest Evaluation:\")\n",
    "print(\"*\"*50)\n",
    "evaluate_model(y_test, y_pred_rf)\n",
    "\n",
    "print(\"\\n\")\n",
    "\n",
    "print(\"*\"*50)\n",
    "print(\"XGBoost Evaluation:\")\n",
    "print(\"*\"*50)\n",
    "evaluate_model(y_test, y_pred_xg)\n",
    "\n",
    "print(\"\\n\")\n",
    "\n",
    "print(\"*\"*50)\n",
    "print(\"Support Vector Machine Evaluation:\")\n",
    "print(\"*\"*50)\n",
    "evaluate_model(y_test, y_pred_svm)\n",
    "\n",
    "print(\"\\n\")\n",
    "\n",
    "print(\"*\"*50)\n",
    "print(\"Naive Bayes Evaluation:\")\n",
    "print(\"*\"*50)\n",
    "evaluate_model(y_test, y_pred_nbt)\n",
    "\n",
    "print(\"\\n\")\n",
    "\n",
    "print(\"*\"*50)\n",
    "print(\"K-Nearest Neighbors Evaluation:\")\n",
    "print(\"*\"*50)\n",
    "evaluate_model(y_test, y_pred_knn)\n",
    "\n",
    "print(\"\\n\")\n",
    "\n",
    "print(\"*\"*50)\n",
    "print(\"Voting Classifier\")\n",
    "print(\"*\"*50)\n",
    "evaluate_model(y_test,pred_evc)"
   ]
  },
  {
   "cell_type": "code",
   "execution_count": 81,
   "id": "3be67f76-b69d-4ab6-b4c4-b2033af728e3",
   "metadata": {},
   "outputs": [],
   "source": [
    "y_p = knn.predict(x_train)"
   ]
  },
  {
   "cell_type": "code",
   "execution_count": 82,
   "id": "53b0c55b-20c4-45a0-a203-d74e4efa8af2",
   "metadata": {},
   "outputs": [
    {
     "name": "stdout",
     "output_type": "stream",
     "text": [
      "0.9990124865588448\n",
      "*****************\n",
      "0.9990344313019817\n"
     ]
    }
   ],
   "source": [
    "print(accuracy_score(y_train, y_p))\n",
    "print(\"*****************\")\n",
    "print(accuracy_score(y_test, y_pred_knn))"
   ]
  },
  {
   "cell_type": "code",
   "execution_count": 83,
   "id": "92c0ca98-66d2-4124-b61d-d79178984ad9",
   "metadata": {},
   "outputs": [],
   "source": [
    "final_output = rforest.predict(test)"
   ]
  },
  {
   "cell_type": "code",
   "execution_count": 85,
   "id": "0ed47861-2557-4442-a0d1-7bdcf16078c1",
   "metadata": {},
   "outputs": [],
   "source": [
    "#final_output[0].value_counts()"
   ]
  },
  {
   "cell_type": "code",
   "execution_count": 89,
   "id": "3a2dfb51-5189-4188-810e-1834e78d1feb",
   "metadata": {},
   "outputs": [],
   "source": [
    "#final_output.head()"
   ]
  },
  {
   "cell_type": "code",
   "execution_count": 91,
   "id": "0cb65791-a059-4f14-8cdf-3b99866a813b",
   "metadata": {},
   "outputs": [],
   "source": [
    "final_output=pd.DataFrame(final_output)"
   ]
  },
  {
   "cell_type": "code",
   "execution_count": 93,
   "id": "a30a4e94-894b-4d11-b152-a1d0d1a2b0cb",
   "metadata": {},
   "outputs": [],
   "source": [
    "final_output.to_csv(\"Final_Target_Value.csv\")"
   ]
  },
  {
   "cell_type": "code",
   "execution_count": 95,
   "id": "a55ad53e-bf1a-41c2-90ed-71c87a38e570",
   "metadata": {},
   "outputs": [],
   "source": [
    "#final = pd.concat([test, final_output],axis=1)"
   ]
  },
  {
   "cell_type": "code",
   "execution_count": 99,
   "id": "7e988470-88a9-434f-9517-1580abfce1ab",
   "metadata": {},
   "outputs": [],
   "source": [
    "final = pd.concat([test.reset_index(drop=True), final_output.reset_index(drop=True)], axis=1)\n"
   ]
  },
  {
   "cell_type": "code",
   "execution_count": 101,
   "id": "0a9422ad-188c-4a0b-834c-23a8be6f9fbc",
   "metadata": {},
   "outputs": [
    {
     "data": {
      "text/plain": [
       "(56962, 31)"
      ]
     },
     "execution_count": 101,
     "metadata": {},
     "output_type": "execute_result"
    }
   ],
   "source": [
    "final.shape"
   ]
  },
  {
   "cell_type": "code",
   "execution_count": 109,
   "id": "be8eee06-c913-4a7d-8b43-dcf218ead94b",
   "metadata": {},
   "outputs": [
    {
     "data": {
      "text/html": [
       "<div>\n",
       "<style scoped>\n",
       "    .dataframe tbody tr th:only-of-type {\n",
       "        vertical-align: middle;\n",
       "    }\n",
       "\n",
       "    .dataframe tbody tr th {\n",
       "        vertical-align: top;\n",
       "    }\n",
       "\n",
       "    .dataframe thead th {\n",
       "        text-align: right;\n",
       "    }\n",
       "</style>\n",
       "<table border=\"1\" class=\"dataframe\">\n",
       "  <thead>\n",
       "    <tr style=\"text-align: right;\">\n",
       "      <th></th>\n",
       "      <th>Group</th>\n",
       "      <th>Per1</th>\n",
       "      <th>Per2</th>\n",
       "      <th>Per3</th>\n",
       "      <th>Per4</th>\n",
       "      <th>Per5</th>\n",
       "      <th>Per6</th>\n",
       "      <th>Per7</th>\n",
       "      <th>Per8</th>\n",
       "      <th>Per9</th>\n",
       "      <th>Dem1</th>\n",
       "      <th>Dem2</th>\n",
       "      <th>Dem3</th>\n",
       "      <th>Dem4</th>\n",
       "      <th>Dem5</th>\n",
       "      <th>Dem6</th>\n",
       "      <th>Dem7</th>\n",
       "      <th>Dem8</th>\n",
       "      <th>Dem9</th>\n",
       "      <th>Cred1</th>\n",
       "      <th>Cred2</th>\n",
       "      <th>Cred3</th>\n",
       "      <th>Cred4</th>\n",
       "      <th>Cred5</th>\n",
       "      <th>Cred6</th>\n",
       "      <th>Normalised_FNT</th>\n",
       "      <th>lambda_wt</th>\n",
       "      <th>qsets_normalized_tat</th>\n",
       "      <th>geo_score</th>\n",
       "      <th>instance_scores</th>\n",
       "      <th>Target</th>\n",
       "    </tr>\n",
       "  </thead>\n",
       "  <tbody>\n",
       "    <tr>\n",
       "      <th>0</th>\n",
       "      <td>277</td>\n",
       "      <td>-0.300000</td>\n",
       "      <td>1.540000</td>\n",
       "      <td>0.220000</td>\n",
       "      <td>-0.280000</td>\n",
       "      <td>0.570000</td>\n",
       "      <td>0.260000</td>\n",
       "      <td>0.700000</td>\n",
       "      <td>1.076667</td>\n",
       "      <td>0.930000</td>\n",
       "      <td>0.156667</td>\n",
       "      <td>0.546667</td>\n",
       "      <td>0.530000</td>\n",
       "      <td>0.876667</td>\n",
       "      <td>0.450000</td>\n",
       "      <td>0.370000</td>\n",
       "      <td>0.786667</td>\n",
       "      <td>0.546667</td>\n",
       "      <td>0.313333</td>\n",
       "      <td>0.703333</td>\n",
       "      <td>0.813333</td>\n",
       "      <td>0.776667</td>\n",
       "      <td>0.796667</td>\n",
       "      <td>0.823333</td>\n",
       "      <td>0.783333</td>\n",
       "      <td>-249.7500</td>\n",
       "      <td>0.76</td>\n",
       "      <td>-0.426</td>\n",
       "      <td>0.25</td>\n",
       "      <td>-0.04</td>\n",
       "      <td>0.0</td>\n",
       "    </tr>\n",
       "    <tr>\n",
       "      <th>1</th>\n",
       "      <td>180</td>\n",
       "      <td>0.633333</td>\n",
       "      <td>0.953333</td>\n",
       "      <td>0.810000</td>\n",
       "      <td>0.466667</td>\n",
       "      <td>0.910000</td>\n",
       "      <td>0.253333</td>\n",
       "      <td>1.040000</td>\n",
       "      <td>0.550000</td>\n",
       "      <td>0.543333</td>\n",
       "      <td>0.433333</td>\n",
       "      <td>0.966667</td>\n",
       "      <td>0.760000</td>\n",
       "      <td>0.576667</td>\n",
       "      <td>0.653333</td>\n",
       "      <td>0.553333</td>\n",
       "      <td>0.636667</td>\n",
       "      <td>0.770000</td>\n",
       "      <td>0.993333</td>\n",
       "      <td>0.536667</td>\n",
       "      <td>0.703333</td>\n",
       "      <td>0.806667</td>\n",
       "      <td>0.630000</td>\n",
       "      <td>0.673333</td>\n",
       "      <td>0.673333</td>\n",
       "      <td>-249.8125</td>\n",
       "      <td>0.18</td>\n",
       "      <td>-0.620</td>\n",
       "      <td>0.43</td>\n",
       "      <td>-0.77</td>\n",
       "      <td>0.0</td>\n",
       "    </tr>\n",
       "    <tr>\n",
       "      <th>2</th>\n",
       "      <td>231</td>\n",
       "      <td>1.043333</td>\n",
       "      <td>0.740000</td>\n",
       "      <td>0.860000</td>\n",
       "      <td>1.006667</td>\n",
       "      <td>0.583333</td>\n",
       "      <td>0.616667</td>\n",
       "      <td>0.630000</td>\n",
       "      <td>0.686667</td>\n",
       "      <td>0.593333</td>\n",
       "      <td>1.250000</td>\n",
       "      <td>0.826667</td>\n",
       "      <td>0.826667</td>\n",
       "      <td>0.653333</td>\n",
       "      <td>0.663333</td>\n",
       "      <td>0.453333</td>\n",
       "      <td>0.626667</td>\n",
       "      <td>0.756667</td>\n",
       "      <td>0.953333</td>\n",
       "      <td>0.623333</td>\n",
       "      <td>0.753333</td>\n",
       "      <td>0.870000</td>\n",
       "      <td>0.596667</td>\n",
       "      <td>0.680000</td>\n",
       "      <td>0.670000</td>\n",
       "      <td>-248.1200</td>\n",
       "      <td>0.39</td>\n",
       "      <td>-0.406</td>\n",
       "      <td>1.32</td>\n",
       "      <td>0.11</td>\n",
       "      <td>0.0</td>\n",
       "    </tr>\n",
       "    <tr>\n",
       "      <th>3</th>\n",
       "      <td>485</td>\n",
       "      <td>1.283333</td>\n",
       "      <td>0.300000</td>\n",
       "      <td>0.576667</td>\n",
       "      <td>0.636667</td>\n",
       "      <td>0.256667</td>\n",
       "      <td>0.543333</td>\n",
       "      <td>0.356667</td>\n",
       "      <td>0.663333</td>\n",
       "      <td>1.156667</td>\n",
       "      <td>1.186667</td>\n",
       "      <td>0.900000</td>\n",
       "      <td>0.433333</td>\n",
       "      <td>0.230000</td>\n",
       "      <td>1.323333</td>\n",
       "      <td>0.403333</td>\n",
       "      <td>0.480000</td>\n",
       "      <td>0.460000</td>\n",
       "      <td>0.260000</td>\n",
       "      <td>0.800000</td>\n",
       "      <td>0.606667</td>\n",
       "      <td>0.456667</td>\n",
       "      <td>0.320000</td>\n",
       "      <td>0.676667</td>\n",
       "      <td>0.660000</td>\n",
       "      <td>-222.9875</td>\n",
       "      <td>1.80</td>\n",
       "      <td>0.374</td>\n",
       "      <td>-2.11</td>\n",
       "      <td>0.33</td>\n",
       "      <td>0.0</td>\n",
       "    </tr>\n",
       "    <tr>\n",
       "      <th>4</th>\n",
       "      <td>504</td>\n",
       "      <td>1.186667</td>\n",
       "      <td>0.326667</td>\n",
       "      <td>0.476667</td>\n",
       "      <td>0.866667</td>\n",
       "      <td>0.436667</td>\n",
       "      <td>0.680000</td>\n",
       "      <td>0.476667</td>\n",
       "      <td>0.686667</td>\n",
       "      <td>1.476667</td>\n",
       "      <td>1.213333</td>\n",
       "      <td>0.853333</td>\n",
       "      <td>0.583333</td>\n",
       "      <td>0.850000</td>\n",
       "      <td>1.090000</td>\n",
       "      <td>0.550000</td>\n",
       "      <td>0.706667</td>\n",
       "      <td>0.740000</td>\n",
       "      <td>0.823333</td>\n",
       "      <td>0.670000</td>\n",
       "      <td>0.896667</td>\n",
       "      <td>0.566667</td>\n",
       "      <td>0.546667</td>\n",
       "      <td>0.650000</td>\n",
       "      <td>0.663333</td>\n",
       "      <td>-196.2200</td>\n",
       "      <td>1.89</td>\n",
       "      <td>-0.130</td>\n",
       "      <td>-2.11</td>\n",
       "      <td>-0.37</td>\n",
       "      <td>0.0</td>\n",
       "    </tr>\n",
       "  </tbody>\n",
       "</table>\n",
       "</div>"
      ],
      "text/plain": [
       "   Group      Per1      Per2      Per3      Per4      Per5      Per6  \\\n",
       "0    277 -0.300000  1.540000  0.220000 -0.280000  0.570000  0.260000   \n",
       "1    180  0.633333  0.953333  0.810000  0.466667  0.910000  0.253333   \n",
       "2    231  1.043333  0.740000  0.860000  1.006667  0.583333  0.616667   \n",
       "3    485  1.283333  0.300000  0.576667  0.636667  0.256667  0.543333   \n",
       "4    504  1.186667  0.326667  0.476667  0.866667  0.436667  0.680000   \n",
       "\n",
       "       Per7      Per8      Per9      Dem1      Dem2      Dem3      Dem4  \\\n",
       "0  0.700000  1.076667  0.930000  0.156667  0.546667  0.530000  0.876667   \n",
       "1  1.040000  0.550000  0.543333  0.433333  0.966667  0.760000  0.576667   \n",
       "2  0.630000  0.686667  0.593333  1.250000  0.826667  0.826667  0.653333   \n",
       "3  0.356667  0.663333  1.156667  1.186667  0.900000  0.433333  0.230000   \n",
       "4  0.476667  0.686667  1.476667  1.213333  0.853333  0.583333  0.850000   \n",
       "\n",
       "       Dem5      Dem6      Dem7      Dem8      Dem9     Cred1     Cred2  \\\n",
       "0  0.450000  0.370000  0.786667  0.546667  0.313333  0.703333  0.813333   \n",
       "1  0.653333  0.553333  0.636667  0.770000  0.993333  0.536667  0.703333   \n",
       "2  0.663333  0.453333  0.626667  0.756667  0.953333  0.623333  0.753333   \n",
       "3  1.323333  0.403333  0.480000  0.460000  0.260000  0.800000  0.606667   \n",
       "4  1.090000  0.550000  0.706667  0.740000  0.823333  0.670000  0.896667   \n",
       "\n",
       "      Cred3     Cred4     Cred5     Cred6  Normalised_FNT  lambda_wt  \\\n",
       "0  0.776667  0.796667  0.823333  0.783333       -249.7500       0.76   \n",
       "1  0.806667  0.630000  0.673333  0.673333       -249.8125       0.18   \n",
       "2  0.870000  0.596667  0.680000  0.670000       -248.1200       0.39   \n",
       "3  0.456667  0.320000  0.676667  0.660000       -222.9875       1.80   \n",
       "4  0.566667  0.546667  0.650000  0.663333       -196.2200       1.89   \n",
       "\n",
       "   qsets_normalized_tat  geo_score  instance_scores  Target  \n",
       "0                -0.426       0.25            -0.04     0.0  \n",
       "1                -0.620       0.43            -0.77     0.0  \n",
       "2                -0.406       1.32             0.11     0.0  \n",
       "3                 0.374      -2.11             0.33     0.0  \n",
       "4                -0.130      -2.11            -0.37     0.0  "
      ]
     },
     "execution_count": 109,
     "metadata": {},
     "output_type": "execute_result"
    }
   ],
   "source": [
    "final.head()"
   ]
  },
  {
   "cell_type": "code",
   "execution_count": 107,
   "id": "b4b698ac-abdc-429d-8e9c-7abfb6f102fe",
   "metadata": {},
   "outputs": [],
   "source": [
    "final.rename(columns={0: 'Target'}, inplace=True)\n"
   ]
  },
  {
   "cell_type": "code",
   "execution_count": 113,
   "id": "2d9385a1-df98-460e-9f96-4e5cd863c9ac",
   "metadata": {},
   "outputs": [
    {
     "data": {
      "text/html": [
       "<div>\n",
       "<style scoped>\n",
       "    .dataframe tbody tr th:only-of-type {\n",
       "        vertical-align: middle;\n",
       "    }\n",
       "\n",
       "    .dataframe tbody tr th {\n",
       "        vertical-align: top;\n",
       "    }\n",
       "\n",
       "    .dataframe thead th {\n",
       "        text-align: right;\n",
       "    }\n",
       "</style>\n",
       "<table border=\"1\" class=\"dataframe\">\n",
       "  <thead>\n",
       "    <tr style=\"text-align: right;\">\n",
       "      <th></th>\n",
       "      <th>id</th>\n",
       "      <th>Group</th>\n",
       "      <th>Per1</th>\n",
       "      <th>Per2</th>\n",
       "      <th>Per3</th>\n",
       "      <th>Per4</th>\n",
       "      <th>Per5</th>\n",
       "      <th>Per6</th>\n",
       "      <th>Per7</th>\n",
       "      <th>Per8</th>\n",
       "      <th>Per9</th>\n",
       "      <th>Dem1</th>\n",
       "      <th>Dem2</th>\n",
       "      <th>Dem3</th>\n",
       "      <th>Dem4</th>\n",
       "      <th>Dem5</th>\n",
       "      <th>Dem6</th>\n",
       "      <th>Dem7</th>\n",
       "      <th>Dem8</th>\n",
       "      <th>Dem9</th>\n",
       "      <th>Cred1</th>\n",
       "      <th>Cred2</th>\n",
       "      <th>Cred3</th>\n",
       "      <th>Cred4</th>\n",
       "      <th>Cred5</th>\n",
       "      <th>Cred6</th>\n",
       "      <th>Normalised_FNT</th>\n",
       "      <th>Target</th>\n",
       "      <th>data</th>\n",
       "      <th>lambda_wt</th>\n",
       "      <th>qsets_normalized_tat</th>\n",
       "      <th>geo_score</th>\n",
       "      <th>instance_scores</th>\n",
       "    </tr>\n",
       "  </thead>\n",
       "  <tbody>\n",
       "    <tr>\n",
       "      <th>0</th>\n",
       "      <td>112751</td>\n",
       "      <td>Grp169</td>\n",
       "      <td>1.070000</td>\n",
       "      <td>0.580000</td>\n",
       "      <td>0.480000</td>\n",
       "      <td>0.766667</td>\n",
       "      <td>1.233333</td>\n",
       "      <td>1.993333</td>\n",
       "      <td>0.340000</td>\n",
       "      <td>1.010000</td>\n",
       "      <td>0.863333</td>\n",
       "      <td>0.460000</td>\n",
       "      <td>0.643333</td>\n",
       "      <td>0.736667</td>\n",
       "      <td>0.756667</td>\n",
       "      <td>0.813333</td>\n",
       "      <td>0.693333</td>\n",
       "      <td>0.666667</td>\n",
       "      <td>0.680000</td>\n",
       "      <td>0.726667</td>\n",
       "      <td>0.606667</td>\n",
       "      <td>1.010000</td>\n",
       "      <td>0.933333</td>\n",
       "      <td>0.603333</td>\n",
       "      <td>0.686667</td>\n",
       "      <td>0.673333</td>\n",
       "      <td>-245.7500</td>\n",
       "      <td>0.0</td>\n",
       "      <td>train</td>\n",
       "      <td>-0.13</td>\n",
       "      <td>-0.700</td>\n",
       "      <td>0.256</td>\n",
       "      <td>-0.06</td>\n",
       "    </tr>\n",
       "    <tr>\n",
       "      <th>1</th>\n",
       "      <td>18495</td>\n",
       "      <td>Grp161</td>\n",
       "      <td>0.473333</td>\n",
       "      <td>1.206667</td>\n",
       "      <td>0.883333</td>\n",
       "      <td>1.430000</td>\n",
       "      <td>0.726667</td>\n",
       "      <td>0.626667</td>\n",
       "      <td>0.810000</td>\n",
       "      <td>0.783333</td>\n",
       "      <td>0.190000</td>\n",
       "      <td>0.470000</td>\n",
       "      <td>0.613333</td>\n",
       "      <td>0.883333</td>\n",
       "      <td>0.653333</td>\n",
       "      <td>0.463333</td>\n",
       "      <td>0.483333</td>\n",
       "      <td>0.583333</td>\n",
       "      <td>0.716667</td>\n",
       "      <td>0.743333</td>\n",
       "      <td>0.680000</td>\n",
       "      <td>0.690000</td>\n",
       "      <td>0.560000</td>\n",
       "      <td>0.670000</td>\n",
       "      <td>0.553333</td>\n",
       "      <td>0.653333</td>\n",
       "      <td>-248.0000</td>\n",
       "      <td>0.0</td>\n",
       "      <td>train</td>\n",
       "      <td>0.66</td>\n",
       "      <td>0.140</td>\n",
       "      <td>-0.250</td>\n",
       "      <td>0.52</td>\n",
       "    </tr>\n",
       "    <tr>\n",
       "      <th>2</th>\n",
       "      <td>23915</td>\n",
       "      <td>Grp261</td>\n",
       "      <td>1.130000</td>\n",
       "      <td>0.143333</td>\n",
       "      <td>0.946667</td>\n",
       "      <td>0.123333</td>\n",
       "      <td>0.080000</td>\n",
       "      <td>0.836667</td>\n",
       "      <td>0.056667</td>\n",
       "      <td>0.756667</td>\n",
       "      <td>0.226667</td>\n",
       "      <td>0.660000</td>\n",
       "      <td>0.730000</td>\n",
       "      <td>0.873333</td>\n",
       "      <td>0.923333</td>\n",
       "      <td>1.223333</td>\n",
       "      <td>0.686667</td>\n",
       "      <td>0.606667</td>\n",
       "      <td>0.690000</td>\n",
       "      <td>0.820000</td>\n",
       "      <td>0.600000</td>\n",
       "      <td>0.383333</td>\n",
       "      <td>0.763333</td>\n",
       "      <td>0.670000</td>\n",
       "      <td>0.686667</td>\n",
       "      <td>0.673333</td>\n",
       "      <td>-233.1250</td>\n",
       "      <td>0.0</td>\n",
       "      <td>train</td>\n",
       "      <td>-0.51</td>\n",
       "      <td>-0.430</td>\n",
       "      <td>-0.950</td>\n",
       "      <td>1.56</td>\n",
       "    </tr>\n",
       "    <tr>\n",
       "      <th>3</th>\n",
       "      <td>50806</td>\n",
       "      <td>Grp198</td>\n",
       "      <td>0.636667</td>\n",
       "      <td>1.090000</td>\n",
       "      <td>0.750000</td>\n",
       "      <td>0.940000</td>\n",
       "      <td>0.743333</td>\n",
       "      <td>0.346667</td>\n",
       "      <td>0.956667</td>\n",
       "      <td>0.633333</td>\n",
       "      <td>0.486667</td>\n",
       "      <td>1.096667</td>\n",
       "      <td>0.466667</td>\n",
       "      <td>0.670000</td>\n",
       "      <td>0.526667</td>\n",
       "      <td>0.783333</td>\n",
       "      <td>0.856667</td>\n",
       "      <td>0.716667</td>\n",
       "      <td>0.720000</td>\n",
       "      <td>0.900000</td>\n",
       "      <td>0.680000</td>\n",
       "      <td>0.846667</td>\n",
       "      <td>0.423333</td>\n",
       "      <td>0.520000</td>\n",
       "      <td>0.846667</td>\n",
       "      <td>0.760000</td>\n",
       "      <td>-249.7775</td>\n",
       "      <td>0.0</td>\n",
       "      <td>train</td>\n",
       "      <td>0.72</td>\n",
       "      <td>-0.302</td>\n",
       "      <td>0.490</td>\n",
       "      <td>0.70</td>\n",
       "    </tr>\n",
       "    <tr>\n",
       "      <th>4</th>\n",
       "      <td>184244</td>\n",
       "      <td>Grp228</td>\n",
       "      <td>0.560000</td>\n",
       "      <td>1.013333</td>\n",
       "      <td>0.593333</td>\n",
       "      <td>0.416667</td>\n",
       "      <td>0.773333</td>\n",
       "      <td>0.460000</td>\n",
       "      <td>0.853333</td>\n",
       "      <td>0.796667</td>\n",
       "      <td>0.516667</td>\n",
       "      <td>0.756667</td>\n",
       "      <td>0.683333</td>\n",
       "      <td>0.296667</td>\n",
       "      <td>0.780000</td>\n",
       "      <td>0.636667</td>\n",
       "      <td>0.783333</td>\n",
       "      <td>0.630000</td>\n",
       "      <td>0.603333</td>\n",
       "      <td>0.486667</td>\n",
       "      <td>0.693333</td>\n",
       "      <td>0.526667</td>\n",
       "      <td>0.520000</td>\n",
       "      <td>0.716667</td>\n",
       "      <td>0.706667</td>\n",
       "      <td>0.673333</td>\n",
       "      <td>-247.5775</td>\n",
       "      <td>0.0</td>\n",
       "      <td>train</td>\n",
       "      <td>0.60</td>\n",
       "      <td>-0.630</td>\n",
       "      <td>0.850</td>\n",
       "      <td>-0.47</td>\n",
       "    </tr>\n",
       "  </tbody>\n",
       "</table>\n",
       "</div>"
      ],
      "text/plain": [
       "       id   Group      Per1      Per2      Per3      Per4      Per5      Per6  \\\n",
       "0  112751  Grp169  1.070000  0.580000  0.480000  0.766667  1.233333  1.993333   \n",
       "1   18495  Grp161  0.473333  1.206667  0.883333  1.430000  0.726667  0.626667   \n",
       "2   23915  Grp261  1.130000  0.143333  0.946667  0.123333  0.080000  0.836667   \n",
       "3   50806  Grp198  0.636667  1.090000  0.750000  0.940000  0.743333  0.346667   \n",
       "4  184244  Grp228  0.560000  1.013333  0.593333  0.416667  0.773333  0.460000   \n",
       "\n",
       "       Per7      Per8      Per9      Dem1      Dem2      Dem3      Dem4  \\\n",
       "0  0.340000  1.010000  0.863333  0.460000  0.643333  0.736667  0.756667   \n",
       "1  0.810000  0.783333  0.190000  0.470000  0.613333  0.883333  0.653333   \n",
       "2  0.056667  0.756667  0.226667  0.660000  0.730000  0.873333  0.923333   \n",
       "3  0.956667  0.633333  0.486667  1.096667  0.466667  0.670000  0.526667   \n",
       "4  0.853333  0.796667  0.516667  0.756667  0.683333  0.296667  0.780000   \n",
       "\n",
       "       Dem5      Dem6      Dem7      Dem8      Dem9     Cred1     Cred2  \\\n",
       "0  0.813333  0.693333  0.666667  0.680000  0.726667  0.606667  1.010000   \n",
       "1  0.463333  0.483333  0.583333  0.716667  0.743333  0.680000  0.690000   \n",
       "2  1.223333  0.686667  0.606667  0.690000  0.820000  0.600000  0.383333   \n",
       "3  0.783333  0.856667  0.716667  0.720000  0.900000  0.680000  0.846667   \n",
       "4  0.636667  0.783333  0.630000  0.603333  0.486667  0.693333  0.526667   \n",
       "\n",
       "      Cred3     Cred4     Cred5     Cred6  Normalised_FNT  Target   data  \\\n",
       "0  0.933333  0.603333  0.686667  0.673333       -245.7500     0.0  train   \n",
       "1  0.560000  0.670000  0.553333  0.653333       -248.0000     0.0  train   \n",
       "2  0.763333  0.670000  0.686667  0.673333       -233.1250     0.0  train   \n",
       "3  0.423333  0.520000  0.846667  0.760000       -249.7775     0.0  train   \n",
       "4  0.520000  0.716667  0.706667  0.673333       -247.5775     0.0  train   \n",
       "\n",
       "   lambda_wt  qsets_normalized_tat  geo_score  instance_scores  \n",
       "0      -0.13                -0.700      0.256            -0.06  \n",
       "1       0.66                 0.140     -0.250             0.52  \n",
       "2      -0.51                -0.430     -0.950             1.56  \n",
       "3       0.72                -0.302      0.490             0.70  \n",
       "4       0.60                -0.630      0.850            -0.47  "
      ]
     },
     "execution_count": 113,
     "metadata": {},
     "output_type": "execute_result"
    }
   ],
   "source": [
    "df.head()"
   ]
  },
  {
   "cell_type": "code",
   "execution_count": null,
   "id": "cf71fb37-1e02-4457-81a2-66c88ba83c2c",
   "metadata": {},
   "outputs": [],
   "source": []
  }
 ],
 "metadata": {
  "kernelspec": {
   "display_name": "Python 3 (ipykernel)",
   "language": "python",
   "name": "python3"
  },
  "language_info": {
   "codemirror_mode": {
    "name": "ipython",
    "version": 3
   },
   "file_extension": ".py",
   "mimetype": "text/x-python",
   "name": "python",
   "nbconvert_exporter": "python",
   "pygments_lexer": "ipython3",
   "version": "3.12.4"
  }
 },
 "nbformat": 4,
 "nbformat_minor": 5
}
